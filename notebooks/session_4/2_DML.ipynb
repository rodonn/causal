{
 "cells": [
  {
   "cell_type": "code",
   "execution_count": 39,
   "metadata": {},
   "outputs": [],
   "source": [
    "import pandas as pd\n",
    "import numpy as np\n",
    "import matplotlib.pyplot as plt\n",
    "import seaborn as sns\n",
    "from sklearn.model_selection import cross_val_predict, KFold, train_test_split\n",
    "import statsmodels.formula.api as smf\n",
    "import statsmodels.api as sm\n",
    "from xgboost import XGBRegressor, XGBClassifier\n",
    "\n",
    "from econml.dml import LinearDML"
   ]
  },
  {
   "cell_type": "code",
   "execution_count": 3,
   "metadata": {},
   "outputs": [],
   "source": [
    "# Install the package for calling R from python\n",
    "#%pip install rpy2\n",
    "## activate R magic\n",
    "%load_ext rpy2.ipython\n",
    "import rpy2\n",
    "## Install packages in R if needed\n",
    "#%R install.packages('hdm')\n",
    "import rpy2.robjects as ro\n",
    "from rpy2.robjects.packages import importr\n",
    "from rpy2.robjects import pandas2ri\n",
    "\n",
    "from rpy2.robjects.conversion import localconverter"
   ]
  },
  {
   "cell_type": "markdown",
   "metadata": {},
   "source": [
    "## Savings and 401k Plans\n",
    "The sample is drawn from the 1991 Survey of Income and Program Participation (SIPP) and consists\n",
    "of 9,915 observations. The observational units are household reference persons aged 25-64 and\n",
    "spouse if present. Households are included in the sample if at least one person is employed and no\n",
    "one is self-employed. The data set was analysed in Chernozhukov and Hansen (2004) and Belloni\n",
    "et al. (2014) where further details can be found. They examine the effects of 401(k) plans on\n",
    "wealth using data from the Survey of Income and Program Participation using 401(k) eligibility as\n",
    "an instrument for 401(k) participation.\n",
    "\n",
    "* p401 = participation in 401(k)\n",
    "* e401 = eligibility for 401(k)\n",
    "* a401 = 401(k) assets\n",
    "* tw = total wealth (in US $)\n",
    "* tfa = financial assets (in US $)\n",
    "* net_tfa = net financial assets (in US $)\n",
    "* nifa = non-401k financial assets (in US $)\n",
    "* net_nifa = net non-401k financial assets\n",
    "* net_n401 = net non-401(k) assets (in US $)\n",
    "* ira = individual retirement account (IRA)\n",
    "* inc = income (in US $)\n",
    "* age = age\n",
    "* fsize = family size\n",
    "* marr = married\n",
    "* pira = participation in IRA\n",
    "* db = defined benefit pension\n",
    "* hown = home owner\n",
    "* educ = education (in years)\n",
    "* male = male\n",
    "* twoearn = two earners\n",
    "* nohs, = hs, smcol, col dummies for education: no high-school, high-school, some college, college\n",
    "* hmort = home mortage (in US $)\n",
    "* hequity = home equity (in US $)\n",
    "* hval = home value (in US $)"
   ]
  },
  {
   "cell_type": "code",
   "execution_count": 4,
   "metadata": {},
   "outputs": [
    {
     "data": {
      "text/html": [
       "<div>\n",
       "<style scoped>\n",
       "    .dataframe tbody tr th:only-of-type {\n",
       "        vertical-align: middle;\n",
       "    }\n",
       "\n",
       "    .dataframe tbody tr th {\n",
       "        vertical-align: top;\n",
       "    }\n",
       "\n",
       "    .dataframe thead th {\n",
       "        text-align: right;\n",
       "    }\n",
       "</style>\n",
       "<table border=\"1\" class=\"dataframe\">\n",
       "  <thead>\n",
       "    <tr style=\"text-align: right;\">\n",
       "      <th></th>\n",
       "      <th>ira</th>\n",
       "      <th>a401</th>\n",
       "      <th>hval</th>\n",
       "      <th>hmort</th>\n",
       "      <th>hequity</th>\n",
       "      <th>nifa</th>\n",
       "      <th>net_nifa</th>\n",
       "      <th>tfa</th>\n",
       "      <th>net_tfa</th>\n",
       "      <th>tfa_he</th>\n",
       "      <th>...</th>\n",
       "      <th>i3</th>\n",
       "      <th>i4</th>\n",
       "      <th>i5</th>\n",
       "      <th>i6</th>\n",
       "      <th>i7</th>\n",
       "      <th>a1</th>\n",
       "      <th>a2</th>\n",
       "      <th>a3</th>\n",
       "      <th>a4</th>\n",
       "      <th>a5</th>\n",
       "    </tr>\n",
       "  </thead>\n",
       "  <tbody>\n",
       "    <tr>\n",
       "      <th>1</th>\n",
       "      <td>0</td>\n",
       "      <td>0</td>\n",
       "      <td>69000</td>\n",
       "      <td>60150</td>\n",
       "      <td>8850</td>\n",
       "      <td>100</td>\n",
       "      <td>-3300</td>\n",
       "      <td>100</td>\n",
       "      <td>-3300</td>\n",
       "      <td>5550</td>\n",
       "      <td>...</td>\n",
       "      <td>1.0</td>\n",
       "      <td>0.0</td>\n",
       "      <td>0.0</td>\n",
       "      <td>0.0</td>\n",
       "      <td>0.0</td>\n",
       "      <td>0.0</td>\n",
       "      <td>1.0</td>\n",
       "      <td>0.0</td>\n",
       "      <td>0.0</td>\n",
       "      <td>0.0</td>\n",
       "    </tr>\n",
       "    <tr>\n",
       "      <th>2</th>\n",
       "      <td>0</td>\n",
       "      <td>0</td>\n",
       "      <td>78000</td>\n",
       "      <td>20000</td>\n",
       "      <td>58000</td>\n",
       "      <td>61010</td>\n",
       "      <td>61010</td>\n",
       "      <td>61010</td>\n",
       "      <td>61010</td>\n",
       "      <td>119010</td>\n",
       "      <td>...</td>\n",
       "      <td>0.0</td>\n",
       "      <td>1.0</td>\n",
       "      <td>0.0</td>\n",
       "      <td>0.0</td>\n",
       "      <td>0.0</td>\n",
       "      <td>0.0</td>\n",
       "      <td>0.0</td>\n",
       "      <td>0.0</td>\n",
       "      <td>1.0</td>\n",
       "      <td>0.0</td>\n",
       "    </tr>\n",
       "    <tr>\n",
       "      <th>3</th>\n",
       "      <td>1800</td>\n",
       "      <td>0</td>\n",
       "      <td>200000</td>\n",
       "      <td>15900</td>\n",
       "      <td>184100</td>\n",
       "      <td>7549</td>\n",
       "      <td>7049</td>\n",
       "      <td>9349</td>\n",
       "      <td>8849</td>\n",
       "      <td>192949</td>\n",
       "      <td>...</td>\n",
       "      <td>0.0</td>\n",
       "      <td>0.0</td>\n",
       "      <td>0.0</td>\n",
       "      <td>1.0</td>\n",
       "      <td>0.0</td>\n",
       "      <td>0.0</td>\n",
       "      <td>0.0</td>\n",
       "      <td>0.0</td>\n",
       "      <td>1.0</td>\n",
       "      <td>0.0</td>\n",
       "    </tr>\n",
       "    <tr>\n",
       "      <th>4</th>\n",
       "      <td>0</td>\n",
       "      <td>0</td>\n",
       "      <td>0</td>\n",
       "      <td>0</td>\n",
       "      <td>0</td>\n",
       "      <td>2487</td>\n",
       "      <td>-6013</td>\n",
       "      <td>2487</td>\n",
       "      <td>-6013</td>\n",
       "      <td>-6013</td>\n",
       "      <td>...</td>\n",
       "      <td>0.0</td>\n",
       "      <td>0.0</td>\n",
       "      <td>1.0</td>\n",
       "      <td>0.0</td>\n",
       "      <td>0.0</td>\n",
       "      <td>1.0</td>\n",
       "      <td>0.0</td>\n",
       "      <td>0.0</td>\n",
       "      <td>0.0</td>\n",
       "      <td>0.0</td>\n",
       "    </tr>\n",
       "    <tr>\n",
       "      <th>5</th>\n",
       "      <td>0</td>\n",
       "      <td>0</td>\n",
       "      <td>300000</td>\n",
       "      <td>90000</td>\n",
       "      <td>210000</td>\n",
       "      <td>10625</td>\n",
       "      <td>-2375</td>\n",
       "      <td>10625</td>\n",
       "      <td>-2375</td>\n",
       "      <td>207625</td>\n",
       "      <td>...</td>\n",
       "      <td>0.0</td>\n",
       "      <td>1.0</td>\n",
       "      <td>0.0</td>\n",
       "      <td>0.0</td>\n",
       "      <td>0.0</td>\n",
       "      <td>0.0</td>\n",
       "      <td>0.0</td>\n",
       "      <td>1.0</td>\n",
       "      <td>0.0</td>\n",
       "      <td>0.0</td>\n",
       "    </tr>\n",
       "    <tr>\n",
       "      <th>...</th>\n",
       "      <td>...</td>\n",
       "      <td>...</td>\n",
       "      <td>...</td>\n",
       "      <td>...</td>\n",
       "      <td>...</td>\n",
       "      <td>...</td>\n",
       "      <td>...</td>\n",
       "      <td>...</td>\n",
       "      <td>...</td>\n",
       "      <td>...</td>\n",
       "      <td>...</td>\n",
       "      <td>...</td>\n",
       "      <td>...</td>\n",
       "      <td>...</td>\n",
       "      <td>...</td>\n",
       "      <td>...</td>\n",
       "      <td>...</td>\n",
       "      <td>...</td>\n",
       "      <td>...</td>\n",
       "      <td>...</td>\n",
       "      <td>...</td>\n",
       "    </tr>\n",
       "    <tr>\n",
       "      <th>9911</th>\n",
       "      <td>0</td>\n",
       "      <td>172</td>\n",
       "      <td>0</td>\n",
       "      <td>0</td>\n",
       "      <td>0</td>\n",
       "      <td>0</td>\n",
       "      <td>0</td>\n",
       "      <td>172</td>\n",
       "      <td>172</td>\n",
       "      <td>172</td>\n",
       "      <td>...</td>\n",
       "      <td>0.0</td>\n",
       "      <td>0.0</td>\n",
       "      <td>0.0</td>\n",
       "      <td>0.0</td>\n",
       "      <td>0.0</td>\n",
       "      <td>0.0</td>\n",
       "      <td>1.0</td>\n",
       "      <td>0.0</td>\n",
       "      <td>0.0</td>\n",
       "      <td>0.0</td>\n",
       "    </tr>\n",
       "    <tr>\n",
       "      <th>9912</th>\n",
       "      <td>0</td>\n",
       "      <td>4500</td>\n",
       "      <td>53000</td>\n",
       "      <td>49000</td>\n",
       "      <td>4000</td>\n",
       "      <td>936</td>\n",
       "      <td>-3664</td>\n",
       "      <td>5436</td>\n",
       "      <td>836</td>\n",
       "      <td>4836</td>\n",
       "      <td>...</td>\n",
       "      <td>0.0</td>\n",
       "      <td>1.0</td>\n",
       "      <td>0.0</td>\n",
       "      <td>0.0</td>\n",
       "      <td>0.0</td>\n",
       "      <td>0.0</td>\n",
       "      <td>1.0</td>\n",
       "      <td>0.0</td>\n",
       "      <td>0.0</td>\n",
       "      <td>0.0</td>\n",
       "    </tr>\n",
       "    <tr>\n",
       "      <th>9913</th>\n",
       "      <td>0</td>\n",
       "      <td>0</td>\n",
       "      <td>250000</td>\n",
       "      <td>150000</td>\n",
       "      <td>100000</td>\n",
       "      <td>10150</td>\n",
       "      <td>6150</td>\n",
       "      <td>10150</td>\n",
       "      <td>6150</td>\n",
       "      <td>106150</td>\n",
       "      <td>...</td>\n",
       "      <td>0.0</td>\n",
       "      <td>0.0</td>\n",
       "      <td>0.0</td>\n",
       "      <td>1.0</td>\n",
       "      <td>0.0</td>\n",
       "      <td>0.0</td>\n",
       "      <td>1.0</td>\n",
       "      <td>0.0</td>\n",
       "      <td>0.0</td>\n",
       "      <td>0.0</td>\n",
       "    </tr>\n",
       "    <tr>\n",
       "      <th>9914</th>\n",
       "      <td>0</td>\n",
       "      <td>15000</td>\n",
       "      <td>63000</td>\n",
       "      <td>59000</td>\n",
       "      <td>4000</td>\n",
       "      <td>3499</td>\n",
       "      <td>-501</td>\n",
       "      <td>18499</td>\n",
       "      <td>14499</td>\n",
       "      <td>18499</td>\n",
       "      <td>...</td>\n",
       "      <td>0.0</td>\n",
       "      <td>0.0</td>\n",
       "      <td>0.0</td>\n",
       "      <td>1.0</td>\n",
       "      <td>0.0</td>\n",
       "      <td>0.0</td>\n",
       "      <td>0.0</td>\n",
       "      <td>1.0</td>\n",
       "      <td>0.0</td>\n",
       "      <td>0.0</td>\n",
       "    </tr>\n",
       "    <tr>\n",
       "      <th>9915</th>\n",
       "      <td>0</td>\n",
       "      <td>600</td>\n",
       "      <td>0</td>\n",
       "      <td>0</td>\n",
       "      <td>0</td>\n",
       "      <td>0</td>\n",
       "      <td>-6000</td>\n",
       "      <td>600</td>\n",
       "      <td>-5400</td>\n",
       "      <td>-5400</td>\n",
       "      <td>...</td>\n",
       "      <td>1.0</td>\n",
       "      <td>0.0</td>\n",
       "      <td>0.0</td>\n",
       "      <td>0.0</td>\n",
       "      <td>0.0</td>\n",
       "      <td>1.0</td>\n",
       "      <td>0.0</td>\n",
       "      <td>0.0</td>\n",
       "      <td>0.0</td>\n",
       "      <td>0.0</td>\n",
       "    </tr>\n",
       "  </tbody>\n",
       "</table>\n",
       "<p>9915 rows × 44 columns</p>\n",
       "</div>"
      ],
      "text/plain": [
       "       ira   a401    hval   hmort  hequity   nifa  net_nifa    tfa  net_tfa  \\\n",
       "1        0      0   69000   60150     8850    100     -3300    100    -3300   \n",
       "2        0      0   78000   20000    58000  61010     61010  61010    61010   \n",
       "3     1800      0  200000   15900   184100   7549      7049   9349     8849   \n",
       "4        0      0       0       0        0   2487     -6013   2487    -6013   \n",
       "5        0      0  300000   90000   210000  10625     -2375  10625    -2375   \n",
       "...    ...    ...     ...     ...      ...    ...       ...    ...      ...   \n",
       "9911     0    172       0       0        0      0         0    172      172   \n",
       "9912     0   4500   53000   49000     4000    936     -3664   5436      836   \n",
       "9913     0      0  250000  150000   100000  10150      6150  10150     6150   \n",
       "9914     0  15000   63000   59000     4000   3499      -501  18499    14499   \n",
       "9915     0    600       0       0        0      0     -6000    600    -5400   \n",
       "\n",
       "      tfa_he  ...   i3   i4   i5   i6   i7   a1   a2   a3   a4   a5  \n",
       "1       5550  ...  1.0  0.0  0.0  0.0  0.0  0.0  1.0  0.0  0.0  0.0  \n",
       "2     119010  ...  0.0  1.0  0.0  0.0  0.0  0.0  0.0  0.0  1.0  0.0  \n",
       "3     192949  ...  0.0  0.0  0.0  1.0  0.0  0.0  0.0  0.0  1.0  0.0  \n",
       "4      -6013  ...  0.0  0.0  1.0  0.0  0.0  1.0  0.0  0.0  0.0  0.0  \n",
       "5     207625  ...  0.0  1.0  0.0  0.0  0.0  0.0  0.0  1.0  0.0  0.0  \n",
       "...      ...  ...  ...  ...  ...  ...  ...  ...  ...  ...  ...  ...  \n",
       "9911     172  ...  0.0  0.0  0.0  0.0  0.0  0.0  1.0  0.0  0.0  0.0  \n",
       "9912    4836  ...  0.0  1.0  0.0  0.0  0.0  0.0  1.0  0.0  0.0  0.0  \n",
       "9913  106150  ...  0.0  0.0  0.0  1.0  0.0  0.0  1.0  0.0  0.0  0.0  \n",
       "9914   18499  ...  0.0  0.0  0.0  1.0  0.0  0.0  0.0  1.0  0.0  0.0  \n",
       "9915   -5400  ...  1.0  0.0  0.0  0.0  0.0  1.0  0.0  0.0  0.0  0.0  \n",
       "\n",
       "[9915 rows x 44 columns]"
      ]
     },
     "execution_count": 4,
     "metadata": {},
     "output_type": "execute_result"
    }
   ],
   "source": [
    "# Load dataset from R package and return as a pandas dataframe\n",
    "with localconverter(ro.default_converter + pandas2ri.converter):\n",
    "    df = ro.conversion.rpy2py(rpy2.robjects.packages.PackageData('hdm').fetch('pension')['pension'])\n",
    "df"
   ]
  },
  {
   "cell_type": "code",
   "execution_count": 5,
   "metadata": {},
   "outputs": [],
   "source": [
    "T = 'e401'\n",
    "Y = 'net_tfa'\n",
    "X = ['age', 'inc', 'fsize', 'educ', 'pira', 'hown', 'marr', 'db', 'twoearn']"
   ]
  },
  {
   "cell_type": "code",
   "execution_count": 6,
   "metadata": {},
   "outputs": [
    {
     "data": {
      "image/png": "[encoded data removed]",
      "text/plain": [
       "<Figure size 1000x500 with 1 Axes>"
      ]
     },
     "metadata": {},
     "output_type": "display_data"
    }
   ],
   "source": [
    "fig, ax = plt.subplots(1, 1, figsize=(10, 5))\n",
    "sns.kdeplot(df, x=\"net_tfa\", hue=\"e401\", fill=True, ax=ax)\n",
    "ax.set_xlim(-50000, 100000)\n",
    "ax.set_xlabel(\"Net Total Family Assets\")\n",
    "ax.set_title(\"Distribution of Net Total Family Assets by 401(k) Eligibility\");\n",
    "#sns.displot(df, x=\"net_tfa\", hue=\"e401\", kind=\"hist\", fill=True, log_scale=(False, True) )"
   ]
  },
  {
   "cell_type": "code",
   "execution_count": 7,
   "metadata": {},
   "outputs": [
    {
     "data": {
      "text/plain": [
       "<seaborn.axisgrid.FacetGrid at 0x16e527ac0>"
      ]
     },
     "execution_count": 7,
     "metadata": {},
     "output_type": "execute_result"
    },
    {
     "data": {
      "image/png": "[encoded data removed]",
      "text/plain": [
       "<Figure size 1500x500 with 1 Axes>"
      ]
     },
     "metadata": {},
     "output_type": "display_data"
    }
   ],
   "source": [
    "df['e401_c'] = df['e401'].astype('category')\n",
    "sns.catplot(data=df, y=\"e401_c\", x=\"net_tfa\", kind=\"violin\", height=5, aspect=3)\n",
    "#sns.catplot(data=df, x=\"e401\", y=\"net_tfa\", alpha=0.1)"
   ]
  },
  {
   "cell_type": "code",
   "execution_count": 8,
   "metadata": {},
   "outputs": [
    {
     "data": {
      "text/html": [
       "<table class=\"simpletable\">\n",
       "<tr>\n",
       "      <td></td>         <th>coef</th>     <th>std err</th>      <th>t</th>      <th>P>|t|</th>  <th>[0.025</th>    <th>0.975]</th>  \n",
       "</tr>\n",
       "<tr>\n",
       "  <th>Intercept</th> <td> 1.079e+04</td> <td>  795.683</td> <td>   13.558</td> <td> 0.000</td> <td> 9228.343</td> <td> 1.23e+04</td>\n",
       "</tr>\n",
       "<tr>\n",
       "  <th>e401</th>      <td> 1.956e+04</td> <td> 1305.704</td> <td>   14.980</td> <td> 0.000</td> <td>  1.7e+04</td> <td> 2.21e+04</td>\n",
       "</tr>\n",
       "</table>"
      ],
      "text/plain": [
       "<class 'statsmodels.iolib.table.SimpleTable'>"
      ]
     },
     "execution_count": 8,
     "metadata": {},
     "output_type": "execute_result"
    }
   ],
   "source": [
    "smf.ols('net_tfa ~ e401', data=df).fit().summary().tables[1]"
   ]
  },
  {
   "cell_type": "code",
   "execution_count": 9,
   "metadata": {},
   "outputs": [
    {
     "data": {
      "text/html": [
       "<table class=\"simpletable\">\n",
       "<tr>\n",
       "      <td></td>         <th>coef</th>     <th>std err</th>      <th>t</th>      <th>P>|t|</th>  <th>[0.025</th>    <th>0.975]</th>  \n",
       "</tr>\n",
       "<tr>\n",
       "  <th>Intercept</th> <td>-3.291e+04</td> <td> 4276.223</td> <td>   -7.695</td> <td> 0.000</td> <td>-4.13e+04</td> <td>-2.45e+04</td>\n",
       "</tr>\n",
       "<tr>\n",
       "  <th>e401</th>      <td> 5896.1984</td> <td> 1250.014</td> <td>    4.717</td> <td> 0.000</td> <td> 3445.917</td> <td> 8346.480</td>\n",
       "</tr>\n",
       "<tr>\n",
       "  <th>age</th>       <td>  624.1455</td> <td>   59.521</td> <td>   10.486</td> <td> 0.000</td> <td>  507.472</td> <td>  740.819</td>\n",
       "</tr>\n",
       "<tr>\n",
       "  <th>inc</th>       <td>    0.9357</td> <td>    0.030</td> <td>   30.982</td> <td> 0.000</td> <td>    0.876</td> <td>    0.995</td>\n",
       "</tr>\n",
       "<tr>\n",
       "  <th>fsize</th>     <td>-1018.7979</td> <td>  449.859</td> <td>   -2.265</td> <td> 0.024</td> <td>-1900.614</td> <td> -136.982</td>\n",
       "</tr>\n",
       "<tr>\n",
       "  <th>educ</th>      <td> -639.7538</td> <td>  228.499</td> <td>   -2.800</td> <td> 0.005</td> <td>-1087.659</td> <td> -191.848</td>\n",
       "</tr>\n",
       "<tr>\n",
       "  <th>pira</th>      <td> 2.953e+04</td> <td> 1465.830</td> <td>   20.148</td> <td> 0.000</td> <td> 2.67e+04</td> <td> 3.24e+04</td>\n",
       "</tr>\n",
       "<tr>\n",
       "  <th>hown</th>      <td> 1185.2564</td> <td> 1323.687</td> <td>    0.895</td> <td> 0.371</td> <td>-1409.439</td> <td> 3779.952</td>\n",
       "</tr>\n",
       "<tr>\n",
       "  <th>marr</th>      <td>  743.3445</td> <td> 1795.556</td> <td>    0.414</td> <td> 0.679</td> <td>-2776.310</td> <td> 4262.999</td>\n",
       "</tr>\n",
       "<tr>\n",
       "  <th>db</th>        <td>-4904.5684</td> <td> 1359.098</td> <td>   -3.609</td> <td> 0.000</td> <td>-7568.677</td> <td>-2240.460</td>\n",
       "</tr>\n",
       "<tr>\n",
       "  <th>twoearn</th>   <td>-1.923e+04</td> <td> 1576.431</td> <td>  -12.196</td> <td> 0.000</td> <td>-2.23e+04</td> <td>-1.61e+04</td>\n",
       "</tr>\n",
       "</table>"
      ],
      "text/plain": [
       "<class 'statsmodels.iolib.table.SimpleTable'>"
      ]
     },
     "execution_count": 9,
     "metadata": {},
     "output_type": "execute_result"
    }
   ],
   "source": [
    "# Fit a linear regression model with controls for the other potential confounders\n",
    "smf.ols('net_tfa ~ e401 + age + inc + fsize + educ + pira + hown + marr + db + twoearn', data=df).fit().summary().tables[1]"
   ]
  },
  {
   "cell_type": "markdown",
   "metadata": {},
   "source": [
    "## Train a single ML model to predict outcomes"
   ]
  },
  {
   "cell_type": "code",
   "execution_count": 10,
   "metadata": {},
   "outputs": [],
   "source": [
    "# Train a single ML model\n",
    "single_model = XGBRegressor()\n",
    "single_model.fit(df[X + [T]], df[Y])\n",
    "# Predict the outcome for both possible treatment values\n",
    "X0 = df[X + [T]].copy(); X0[T] = 0\n",
    "X1 = df[X + [T]].copy(); X1[T] = 1\n",
    "df['y0'] = single_model.predict(X0)\n",
    "df['y1'] = single_model.predict(X1)\n",
    "# Compute the difference in outcomes\n",
    "df['y_diff'] = df['y1'] - df['y0'];"
   ]
  },
  {
   "cell_type": "code",
   "execution_count": 11,
   "metadata": {},
   "outputs": [
    {
     "data": {
      "text/plain": [
       "count      9915.000000\n",
       "mean       7299.479980\n",
       "std       16029.632812\n",
       "min     -321230.718750\n",
       "25%        2508.416504\n",
       "50%        5210.951172\n",
       "75%       10587.274414\n",
       "max      357415.468750\n",
       "Name: y_diff, dtype: float64"
      ]
     },
     "execution_count": 11,
     "metadata": {},
     "output_type": "execute_result"
    },
    {
     "data": {
      "image/png": "[encoded data removed]",
      "text/plain": [
       "<Figure size 640x480 with 1 Axes>"
      ]
     },
     "metadata": {},
     "output_type": "display_data"
    }
   ],
   "source": [
    "sns.kdeplot(df, x=\"y_diff\")\n",
    "plt.xlabel(\"Difference in Predicted Outcomes\")\n",
    "plt.title(\"Distribution of Predicted Treatment Effects\");\n",
    "df['y_diff'].describe()"
   ]
  },
  {
   "cell_type": "markdown",
   "metadata": {},
   "source": [
    "## Train Treatment and Outcome ML models, without cross fitting"
   ]
  },
  {
   "cell_type": "code",
   "execution_count": 12,
   "metadata": {},
   "outputs": [],
   "source": [
    "# Fit model to predict T\n",
    "treatment_model = XGBClassifier()\n",
    "treatment_model.fit(df[X], df[T])\n",
    "T_pred = treatment_model.predict_proba(df[X])[:,1]\n",
    "T_resid = df[T] - T_pred\n",
    "\n",
    "# Plot Y against the T residuals\n",
    "#sns.regplot(data=df, x=T_resid, y=Y, scatter_kws={'alpha': 0.1}, line_kws={'color': 'red'});"
   ]
  },
  {
   "cell_type": "code",
   "execution_count": 13,
   "metadata": {},
   "outputs": [],
   "source": [
    "# Fit model to predict Y\n",
    "outcome_model = XGBRegressor()\n",
    "outcome_model.fit(df[X], df[Y])\n",
    "Y_pred = outcome_model.predict(df[X])\n",
    "Y_resid = df[Y] - Y_pred\n",
    "\n",
    "# Plot Y residuals against the T residuals\n",
    "#sns.regplot(x=T_resid, y=Y_resid, scatter_kws={'alpha': 0.1}, line_kws={'color': 'red'});"
   ]
  },
  {
   "cell_type": "code",
   "execution_count": 14,
   "metadata": {},
   "outputs": [
    {
     "data": {
      "text/html": [
       "<table class=\"simpletable\">\n",
       "<tr>\n",
       "    <td></td>      <th>coef</th>     <th>std err</th>      <th>t</th>      <th>P>|t|</th>  <th>[0.025</th>    <th>0.975]</th>  \n",
       "</tr>\n",
       "<tr>\n",
       "  <th>e401</th> <td> 7241.0850</td> <td>  599.888</td> <td>   12.071</td> <td> 0.000</td> <td> 6065.184</td> <td> 8416.987</td>\n",
       "</tr>\n",
       "</table>"
      ],
      "text/plain": [
       "<class 'statsmodels.iolib.table.SimpleTable'>"
      ]
     },
     "execution_count": 14,
     "metadata": {},
     "output_type": "execute_result"
    }
   ],
   "source": [
    "# Fit linear model to predict Y_resid based on T_residual\n",
    "sm.OLS(Y_resid, T_resid).fit().summary().tables[1]"
   ]
  },
  {
   "cell_type": "markdown",
   "metadata": {},
   "source": [
    "# Train Treatment and Outcome ML models using Cross-splitting"
   ]
  },
  {
   "cell_type": "code",
   "execution_count": 22,
   "metadata": {},
   "outputs": [],
   "source": [
    "# Cross_val_predict splits the data into 2 parts and then returns out-of-sample predictions for each part (trained on the other part)\n",
    "df1, df2 = train_test_split(df, test_size=0.5, random_state=0)\n",
    "\n",
    "# Fit model to predict T on first half\n",
    "treatment_model_1 = XGBClassifier()\n",
    "treatment_model_1.fit(df1[X], df1[T])\n",
    "T_pred_2 = treatment_model_1.predict_proba(df2[X])[:,1]\n",
    "T_resid_2 = df2[T] - T_pred_2\n",
    "\n",
    "# Fit model to predict T on second half\n",
    "treatment_model_2 = XGBClassifier()\n",
    "treatment_model_2.fit(df2[X], df2[T])\n",
    "T_pred_1 = treatment_model_2.predict_proba(df1[X])[:,1]\n",
    "T_resid_1 = df1[T] - T_pred_1\n",
    "\n",
    "# Fit model to predict Y on first half\n",
    "outcome_model_1 = XGBRegressor()\n",
    "outcome_model_1.fit(df1[X], df1[Y])\n",
    "Y_pred_2 = outcome_model_1.predict(df2[X])\n",
    "Y_resid_2 = df2[Y] - Y_pred_2\n",
    "\n",
    "# Fit model to predict Y on second half\n",
    "outcome_model_2 = XGBRegressor()\n",
    "outcome_model_2.fit(df2[X], df2[Y])\n",
    "Y_pred_1 = outcome_model_2.predict(df1[X])\n",
    "Y_resid_1 = df1[Y] - Y_pred_1\n"
   ]
  },
  {
   "cell_type": "code",
   "execution_count": 33,
   "metadata": {},
   "outputs": [
    {
     "data": {
      "text/html": [
       "<table class=\"simpletable\">\n",
       "<tr>\n",
       "    <td></td>      <th>coef</th>     <th>std err</th>      <th>t</th>      <th>P>|t|</th>  <th>[0.025</th>    <th>0.975]</th>  \n",
       "</tr>\n",
       "<tr>\n",
       "  <th>e401</th> <td> 9168.3266</td> <td> 2020.203</td> <td>    4.538</td> <td> 0.000</td> <td> 5207.835</td> <td> 1.31e+04</td>\n",
       "</tr>\n",
       "</table>"
      ],
      "text/plain": [
       "<class 'statsmodels.iolib.table.SimpleTable'>"
      ]
     },
     "execution_count": 33,
     "metadata": {},
     "output_type": "execute_result"
    }
   ],
   "source": [
    "# Results from first half, using predictions from second half\n",
    "sm.OLS(Y_resid_1, T_resid_1).fit().summary().tables[1]"
   ]
  },
  {
   "cell_type": "code",
   "execution_count": 34,
   "metadata": {},
   "outputs": [
    {
     "data": {
      "text/html": [
       "<table class=\"simpletable\">\n",
       "<tr>\n",
       "    <td></td>      <th>coef</th>     <th>std err</th>      <th>t</th>      <th>P>|t|</th>  <th>[0.025</th>    <th>0.975]</th>  \n",
       "</tr>\n",
       "<tr>\n",
       "  <th>e401</th> <td> 1.014e+04</td> <td> 2067.899</td> <td>    4.906</td> <td> 0.000</td> <td> 6090.973</td> <td> 1.42e+04</td>\n",
       "</tr>\n",
       "</table>"
      ],
      "text/plain": [
       "<class 'statsmodels.iolib.table.SimpleTable'>"
      ]
     },
     "execution_count": 34,
     "metadata": {},
     "output_type": "execute_result"
    }
   ],
   "source": [
    "# Results from second half, using predictions from first half\n",
    "sm.OLS(Y_resid_2, T_resid_2).fit().summary().tables[1]"
   ]
  },
  {
   "cell_type": "code",
   "execution_count": 35,
   "metadata": {},
   "outputs": [
    {
     "data": {
      "text/html": [
       "<table class=\"simpletable\">\n",
       "<tr>\n",
       "   <td></td>     <th>coef</th>     <th>std err</th>      <th>t</th>      <th>P>|t|</th>  <th>[0.025</th>    <th>0.975]</th>  \n",
       "</tr>\n",
       "<tr>\n",
       "  <th>x1</th> <td> 9663.1748</td> <td> 1445.624</td> <td>    6.684</td> <td> 0.000</td> <td> 6829.458</td> <td> 1.25e+04</td>\n",
       "</tr>\n",
       "</table>"
      ],
      "text/plain": [
       "<class 'statsmodels.iolib.table.SimpleTable'>"
      ]
     },
     "execution_count": 35,
     "metadata": {},
     "output_type": "execute_result"
    }
   ],
   "source": [
    "# Stacking the results from the two halves and then fitting the final model\n",
    "T_resid_stacked = np.hstack([T_resid_1, T_resid_2])\n",
    "Y_resid_stacked = np.hstack([Y_resid_1, Y_resid_2])\n",
    "sm.OLS(Y_resid_stacked, T_resid_stacked).fit().summary().tables[1]"
   ]
  },
  {
   "cell_type": "markdown",
   "metadata": {},
   "source": [
    "## Using Sklearn cross_val_predict"
   ]
  },
  {
   "cell_type": "code",
   "execution_count": 36,
   "metadata": {},
   "outputs": [
    {
     "data": {
      "text/html": [
       "<table class=\"simpletable\">\n",
       "<tr>\n",
       "    <td></td>      <th>coef</th>     <th>std err</th>      <th>t</th>      <th>P>|t|</th>  <th>[0.025</th>    <th>0.975]</th>  \n",
       "</tr>\n",
       "<tr>\n",
       "  <th>e401</th> <td> 9101.8785</td> <td> 1369.732</td> <td>    6.645</td> <td> 0.000</td> <td> 6416.925</td> <td> 1.18e+04</td>\n",
       "</tr>\n",
       "</table>"
      ],
      "text/plain": [
       "<class 'statsmodels.iolib.table.SimpleTable'>"
      ]
     },
     "execution_count": 36,
     "metadata": {},
     "output_type": "execute_result"
    }
   ],
   "source": [
    "# Cross_val_predict splits the data into 5 parts and then returns out-of-sample predictions for each part (trained on the other 4 parts)\n",
    "cv = 5\n",
    "splitter = KFold(n_splits=cv, shuffle=True, random_state=0)\n",
    "\n",
    "# Fit model to predict T\n",
    "treatment_model = XGBClassifier()\n",
    "T_pred = cross_val_predict(treatment_model, df[X], df[T], cv=splitter, method='predict_proba')[:, 1]\n",
    "T_resid = df[T] - T_pred\n",
    "\n",
    "# Fit model to predict Y\n",
    "outcome_model = XGBRegressor()\n",
    "Y_pred = cross_val_predict(outcome_model, df[X], df[Y], cv=splitter)\n",
    "Y_resid = df[Y] - Y_pred\n",
    "\n",
    "# Fit linear regression on the residuals\n",
    "sm.OLS(Y_resid, T_resid).fit().summary().tables[1]"
   ]
  },
  {
   "cell_type": "markdown",
   "metadata": {},
   "source": [
    "### Repeating with RandomForest instead of XGBoost"
   ]
  },
  {
   "cell_type": "code",
   "execution_count": 37,
   "metadata": {},
   "outputs": [
    {
     "data": {
      "text/html": [
       "<table class=\"simpletable\">\n",
       "<tr>\n",
       "    <td></td>      <th>coef</th>     <th>std err</th>      <th>t</th>      <th>P>|t|</th>  <th>[0.025</th>    <th>0.975]</th>  \n",
       "</tr>\n",
       "<tr>\n",
       "  <th>e401</th> <td> 9254.8338</td> <td> 1269.165</td> <td>    7.292</td> <td> 0.000</td> <td> 6767.012</td> <td> 1.17e+04</td>\n",
       "</tr>\n",
       "</table>"
      ],
      "text/plain": [
       "<class 'statsmodels.iolib.table.SimpleTable'>"
      ]
     },
     "execution_count": 37,
     "metadata": {},
     "output_type": "execute_result"
    }
   ],
   "source": [
    "from sklearn.ensemble import RandomForestRegressor, RandomForestClassifier\n",
    "\n",
    "# Fit model to predict T\n",
    "treatment_model = RandomForestClassifier()\n",
    "T_pred = cross_val_predict(treatment_model, df[X], df[T], cv=splitter, method='predict_proba')[:, 1]\n",
    "T_resid = df[T] - T_pred\n",
    "\n",
    "# Fit model to predict Y\n",
    "outcome_model = RandomForestRegressor()\n",
    "Y_pred = cross_val_predict(outcome_model, df[X], df[Y], cv=splitter)\n",
    "Y_resid = df[Y] - Y_pred\n",
    "\n",
    "# Fit linear regression on the residuals\n",
    "sm.OLS(Y_resid, T_resid).fit().summary().tables[1]"
   ]
  },
  {
   "cell_type": "markdown",
   "metadata": {},
   "source": [
    "# Using the EconML Package"
   ]
  },
  {
   "cell_type": "code",
   "execution_count": 17,
   "metadata": {},
   "outputs": [],
   "source": [
    "model = LinearDML(\n",
    "    model_y=XGBRegressor(),\n",
    "    model_t=XGBClassifier(),\n",
    "    discrete_treatment=True,\n",
    "    cv=5,\n",
    ")\n",
    "model.fit(df[Y], df[T], X=None, W=df[X]);"
   ]
  },
  {
   "cell_type": "code",
   "execution_count": 18,
   "metadata": {},
   "outputs": [
    {
     "name": "stdout",
     "output_type": "stream",
     "text": [
      "Coefficient Results:  X is None, please call intercept_inference to learn the constant!\n"
     ]
    },
    {
     "data": {
      "text/html": [
       "<table class=\"simpletable\">\n",
       "<caption>CATE Intercept Results</caption>\n",
       "<tr>\n",
       "         <td></td>        <th>point_estimate</th>  <th>stderr</th>  <th>zstat</th> <th>pvalue</th> <th>ci_lower</th> <th>ci_upper</th>\n",
       "</tr>\n",
       "<tr>\n",
       "  <th>cate_intercept</th>    <td>8580.185</td>    <td>1491.397</td> <td>5.753</td>   <td>0.0</td>   <td>5657.1</td>  <td>11503.27</td>\n",
       "</tr>\n",
       "</table><br/><br/><sub>A linear parametric conditional average treatment effect (CATE) model was fitted:<br/>$Y = \\Theta(X)\\cdot T + g(X, W) + \\epsilon$<br/>where for every outcome $i$ and treatment $j$ the CATE $\\Theta_{ij}(X)$ has the form:<br/>$\\Theta_{ij}(X) = X' coef_{ij} + cate\\_intercept_{ij}$<br/>Coefficient Results table portrays the $coef_{ij}$ parameter vector for each outcome $i$ and treatment $j$. Intercept Results table portrays the $cate\\_intercept_{ij}$ parameter.</sub>"
      ],
      "text/plain": [
       "<class 'econml.utilities.Summary'>\n",
       "\"\"\"\n",
       "                        CATE Intercept Results                       \n",
       "=====================================================================\n",
       "               point_estimate  stderr  zstat pvalue ci_lower ci_upper\n",
       "---------------------------------------------------------------------\n",
       "cate_intercept       8580.185 1491.397 5.753    0.0   5657.1 11503.27\n",
       "---------------------------------------------------------------------\n",
       "\n",
       "<sub>A linear parametric conditional average treatment effect (CATE) model was fitted:\n",
       "$Y = \\Theta(X)\\cdot T + g(X, W) + \\epsilon$\n",
       "where for every outcome $i$ and treatment $j$ the CATE $\\Theta_{ij}(X)$ has the form:\n",
       "$\\Theta_{ij}(X) = X' coef_{ij} + cate\\_intercept_{ij}$\n",
       "Coefficient Results table portrays the $coef_{ij}$ parameter vector for each outcome $i$ and treatment $j$. Intercept Results table portrays the $cate\\_intercept_{ij}$ parameter.</sub>\n",
       "\"\"\""
      ]
     },
     "execution_count": 18,
     "metadata": {},
     "output_type": "execute_result"
    }
   ],
   "source": [
    "model.summary()"
   ]
  }
 ],
 "metadata": {
  "kernelspec": {
   "display_name": "Python 3.10.8 64-bit",
   "language": "python",
   "name": "python3"
  },
  "language_info": {
   "codemirror_mode": {
    "name": "ipython",
    "version": 3
   },
   "file_extension": ".py",
   "mimetype": "text/x-python",
   "name": "python",
   "nbconvert_exporter": "python",
   "pygments_lexer": "ipython3",
   "version": "3.10.8"
  },
  "orig_nbformat": 4,
  "vscode": {
   "interpreter": {
    "hash": "6ecdebf77f2ee3a47348d003f751c63e810ca996c1c68d1179f338200fa83b34"
   }
  }
 },
 "nbformat": 4,
 "nbformat_minor": 2
}
