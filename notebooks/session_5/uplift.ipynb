{
 "cells": [
  {
   "cell_type": "code",
   "execution_count": 1,
   "metadata": {},
   "outputs": [],
   "source": [
    "#%pip install scikit-uplift econml\n",
    "\n",
    "## Another package to consider is mr_uplift\n",
    "## That package has some nice features if you need to predict uplift along multiple metrics \n",
    "## for example you want to predict clicks, revenue, conversions, and costs"
   ]
  },
  {
   "cell_type": "code",
   "execution_count": 2,
   "metadata": {},
   "outputs": [],
   "source": [
    "import matplotlib.pyplot as plt\n",
    "import numpy as np\n",
    "import pandas as pd\n",
    "import seaborn as sns\n",
    "import statsmodels.formula.api as smf\n",
    "\n",
    "from sklearn.model_selection import train_test_split\n",
    "from sklift.datasets import fetch_criteo\n",
    "from sklift.models import SoloModel, TwoModels\n",
    "from sklift.metrics import uplift_at_k, uplift_auc_score, qini_auc_score, weighted_average_uplift\n",
    "from sklift.viz import plot_qini_curve, plot_uplift_preds, plot_uplift_by_percentile, plot_uplift_curve\n",
    "\n",
    "from econml.metalearners import SLearner, TLearner, XLearner\n",
    "from sklearn.linear_model import LogisticRegression, LinearRegression\n",
    "from xgboost import XGBClassifier, XGBRegressor\n"
   ]
  },
  {
   "cell_type": "code",
   "execution_count": 3,
   "metadata": {},
   "outputs": [],
   "source": [
    "import warnings\n",
    "warnings.filterwarnings(\"ignore\", category=np.VisibleDeprecationWarning)"
   ]
  },
  {
   "cell_type": "code",
   "execution_count": 4,
   "metadata": {},
   "outputs": [],
   "source": [
    "# You can make the data 10x larger by setting percent10=False\n",
    "# I am avoiding that here since I don't want everything to be super slow to run\n",
    "data = fetch_criteo(target_col='all', treatment_col='all', percent10=True)"
   ]
  },
  {
   "cell_type": "code",
   "execution_count": 5,
   "metadata": {},
   "outputs": [
    {
     "data": {
      "text/html": [
       "<div>\n",
       "<style scoped>\n",
       "    .dataframe tbody tr th:only-of-type {\n",
       "        vertical-align: middle;\n",
       "    }\n",
       "\n",
       "    .dataframe tbody tr th {\n",
       "        vertical-align: top;\n",
       "    }\n",
       "\n",
       "    .dataframe thead th {\n",
       "        text-align: right;\n",
       "    }\n",
       "</style>\n",
       "<table border=\"1\" class=\"dataframe\">\n",
       "  <thead>\n",
       "    <tr style=\"text-align: right;\">\n",
       "      <th></th>\n",
       "      <th>visit</th>\n",
       "      <th>conversion</th>\n",
       "      <th>exposure</th>\n",
       "      <th>treatment</th>\n",
       "      <th>f0</th>\n",
       "      <th>f1</th>\n",
       "      <th>f2</th>\n",
       "      <th>f3</th>\n",
       "      <th>f4</th>\n",
       "      <th>f5</th>\n",
       "      <th>f6</th>\n",
       "      <th>f7</th>\n",
       "      <th>f8</th>\n",
       "      <th>f9</th>\n",
       "      <th>f10</th>\n",
       "      <th>f11</th>\n",
       "    </tr>\n",
       "  </thead>\n",
       "  <tbody>\n",
       "    <tr>\n",
       "      <th>0</th>\n",
       "      <td>0</td>\n",
       "      <td>0</td>\n",
       "      <td>0</td>\n",
       "      <td>1</td>\n",
       "      <td>26.290533</td>\n",
       "      <td>10.059654</td>\n",
       "      <td>8.214383</td>\n",
       "      <td>4.679882</td>\n",
       "      <td>10.280525</td>\n",
       "      <td>4.115453</td>\n",
       "      <td>-1.288207</td>\n",
       "      <td>4.833815</td>\n",
       "      <td>3.971858</td>\n",
       "      <td>13.190056</td>\n",
       "      <td>5.300375</td>\n",
       "      <td>-0.168679</td>\n",
       "    </tr>\n",
       "    <tr>\n",
       "      <th>1</th>\n",
       "      <td>0</td>\n",
       "      <td>0</td>\n",
       "      <td>0</td>\n",
       "      <td>0</td>\n",
       "      <td>12.616365</td>\n",
       "      <td>10.059654</td>\n",
       "      <td>8.339021</td>\n",
       "      <td>4.679882</td>\n",
       "      <td>10.280525</td>\n",
       "      <td>4.115453</td>\n",
       "      <td>0.294443</td>\n",
       "      <td>4.833815</td>\n",
       "      <td>3.869313</td>\n",
       "      <td>32.101873</td>\n",
       "      <td>5.300375</td>\n",
       "      <td>-0.168679</td>\n",
       "    </tr>\n",
       "    <tr>\n",
       "      <th>2</th>\n",
       "      <td>0</td>\n",
       "      <td>0</td>\n",
       "      <td>0</td>\n",
       "      <td>1</td>\n",
       "      <td>17.293231</td>\n",
       "      <td>10.059654</td>\n",
       "      <td>8.214383</td>\n",
       "      <td>2.293959</td>\n",
       "      <td>10.280525</td>\n",
       "      <td>4.115453</td>\n",
       "      <td>-4.595460</td>\n",
       "      <td>4.833815</td>\n",
       "      <td>3.971858</td>\n",
       "      <td>13.190056</td>\n",
       "      <td>5.300375</td>\n",
       "      <td>-0.168679</td>\n",
       "    </tr>\n",
       "    <tr>\n",
       "      <th>3</th>\n",
       "      <td>0</td>\n",
       "      <td>0</td>\n",
       "      <td>0</td>\n",
       "      <td>0</td>\n",
       "      <td>12.616365</td>\n",
       "      <td>10.059654</td>\n",
       "      <td>8.788121</td>\n",
       "      <td>4.679882</td>\n",
       "      <td>10.280525</td>\n",
       "      <td>4.115453</td>\n",
       "      <td>0.294443</td>\n",
       "      <td>4.833815</td>\n",
       "      <td>3.943716</td>\n",
       "      <td>13.190056</td>\n",
       "      <td>5.300375</td>\n",
       "      <td>-0.168679</td>\n",
       "    </tr>\n",
       "    <tr>\n",
       "      <th>4</th>\n",
       "      <td>0</td>\n",
       "      <td>0</td>\n",
       "      <td>0</td>\n",
       "      <td>1</td>\n",
       "      <td>20.363292</td>\n",
       "      <td>10.059654</td>\n",
       "      <td>8.563419</td>\n",
       "      <td>2.934780</td>\n",
       "      <td>10.280525</td>\n",
       "      <td>4.115453</td>\n",
       "      <td>-12.570178</td>\n",
       "      <td>4.833815</td>\n",
       "      <td>3.863287</td>\n",
       "      <td>18.380112</td>\n",
       "      <td>5.300375</td>\n",
       "      <td>-0.168679</td>\n",
       "    </tr>\n",
       "    <tr>\n",
       "      <th>...</th>\n",
       "      <td>...</td>\n",
       "      <td>...</td>\n",
       "      <td>...</td>\n",
       "      <td>...</td>\n",
       "      <td>...</td>\n",
       "      <td>...</td>\n",
       "      <td>...</td>\n",
       "      <td>...</td>\n",
       "      <td>...</td>\n",
       "      <td>...</td>\n",
       "      <td>...</td>\n",
       "      <td>...</td>\n",
       "      <td>...</td>\n",
       "      <td>...</td>\n",
       "      <td>...</td>\n",
       "      <td>...</td>\n",
       "    </tr>\n",
       "    <tr>\n",
       "      <th>1397955</th>\n",
       "      <td>0</td>\n",
       "      <td>0</td>\n",
       "      <td>0</td>\n",
       "      <td>1</td>\n",
       "      <td>19.003610</td>\n",
       "      <td>10.059654</td>\n",
       "      <td>8.214383</td>\n",
       "      <td>2.293959</td>\n",
       "      <td>10.280525</td>\n",
       "      <td>4.115453</td>\n",
       "      <td>-4.595460</td>\n",
       "      <td>4.833815</td>\n",
       "      <td>3.971858</td>\n",
       "      <td>13.190056</td>\n",
       "      <td>5.300375</td>\n",
       "      <td>-0.168679</td>\n",
       "    </tr>\n",
       "    <tr>\n",
       "      <th>1397956</th>\n",
       "      <td>0</td>\n",
       "      <td>0</td>\n",
       "      <td>0</td>\n",
       "      <td>1</td>\n",
       "      <td>23.666942</td>\n",
       "      <td>10.059654</td>\n",
       "      <td>8.214383</td>\n",
       "      <td>4.679882</td>\n",
       "      <td>10.280525</td>\n",
       "      <td>4.115453</td>\n",
       "      <td>-8.281971</td>\n",
       "      <td>4.833815</td>\n",
       "      <td>3.971858</td>\n",
       "      <td>13.190056</td>\n",
       "      <td>5.300375</td>\n",
       "      <td>-0.168679</td>\n",
       "    </tr>\n",
       "    <tr>\n",
       "      <th>1397957</th>\n",
       "      <td>0</td>\n",
       "      <td>0</td>\n",
       "      <td>0</td>\n",
       "      <td>0</td>\n",
       "      <td>24.364688</td>\n",
       "      <td>10.059654</td>\n",
       "      <td>8.214383</td>\n",
       "      <td>4.679882</td>\n",
       "      <td>10.280525</td>\n",
       "      <td>4.115453</td>\n",
       "      <td>-6.699321</td>\n",
       "      <td>4.833815</td>\n",
       "      <td>3.971858</td>\n",
       "      <td>13.190056</td>\n",
       "      <td>5.300375</td>\n",
       "      <td>-0.168679</td>\n",
       "    </tr>\n",
       "    <tr>\n",
       "      <th>1397958</th>\n",
       "      <td>0</td>\n",
       "      <td>0</td>\n",
       "      <td>0</td>\n",
       "      <td>0</td>\n",
       "      <td>19.475085</td>\n",
       "      <td>10.059654</td>\n",
       "      <td>8.224988</td>\n",
       "      <td>0.719526</td>\n",
       "      <td>13.059169</td>\n",
       "      <td>3.013064</td>\n",
       "      <td>-12.915828</td>\n",
       "      <td>9.224334</td>\n",
       "      <td>3.768021</td>\n",
       "      <td>41.609419</td>\n",
       "      <td>5.323182</td>\n",
       "      <td>-0.267350</td>\n",
       "    </tr>\n",
       "    <tr>\n",
       "      <th>1397959</th>\n",
       "      <td>0</td>\n",
       "      <td>0</td>\n",
       "      <td>0</td>\n",
       "      <td>1</td>\n",
       "      <td>12.616365</td>\n",
       "      <td>10.059654</td>\n",
       "      <td>9.041758</td>\n",
       "      <td>4.679882</td>\n",
       "      <td>10.280525</td>\n",
       "      <td>4.115453</td>\n",
       "      <td>0.294443</td>\n",
       "      <td>4.833815</td>\n",
       "      <td>3.955396</td>\n",
       "      <td>13.190056</td>\n",
       "      <td>5.300375</td>\n",
       "      <td>-0.168679</td>\n",
       "    </tr>\n",
       "  </tbody>\n",
       "</table>\n",
       "<p>1397960 rows × 16 columns</p>\n",
       "</div>"
      ],
      "text/plain": [
       "         visit  conversion  exposure  treatment         f0         f1  \\\n",
       "0            0           0         0          1  26.290533  10.059654   \n",
       "1            0           0         0          0  12.616365  10.059654   \n",
       "2            0           0         0          1  17.293231  10.059654   \n",
       "3            0           0         0          0  12.616365  10.059654   \n",
       "4            0           0         0          1  20.363292  10.059654   \n",
       "...        ...         ...       ...        ...        ...        ...   \n",
       "1397955      0           0         0          1  19.003610  10.059654   \n",
       "1397956      0           0         0          1  23.666942  10.059654   \n",
       "1397957      0           0         0          0  24.364688  10.059654   \n",
       "1397958      0           0         0          0  19.475085  10.059654   \n",
       "1397959      0           0         0          1  12.616365  10.059654   \n",
       "\n",
       "               f2        f3         f4        f5         f6        f7  \\\n",
       "0        8.214383  4.679882  10.280525  4.115453  -1.288207  4.833815   \n",
       "1        8.339021  4.679882  10.280525  4.115453   0.294443  4.833815   \n",
       "2        8.214383  2.293959  10.280525  4.115453  -4.595460  4.833815   \n",
       "3        8.788121  4.679882  10.280525  4.115453   0.294443  4.833815   \n",
       "4        8.563419  2.934780  10.280525  4.115453 -12.570178  4.833815   \n",
       "...           ...       ...        ...       ...        ...       ...   \n",
       "1397955  8.214383  2.293959  10.280525  4.115453  -4.595460  4.833815   \n",
       "1397956  8.214383  4.679882  10.280525  4.115453  -8.281971  4.833815   \n",
       "1397957  8.214383  4.679882  10.280525  4.115453  -6.699321  4.833815   \n",
       "1397958  8.224988  0.719526  13.059169  3.013064 -12.915828  9.224334   \n",
       "1397959  9.041758  4.679882  10.280525  4.115453   0.294443  4.833815   \n",
       "\n",
       "               f8         f9       f10       f11  \n",
       "0        3.971858  13.190056  5.300375 -0.168679  \n",
       "1        3.869313  32.101873  5.300375 -0.168679  \n",
       "2        3.971858  13.190056  5.300375 -0.168679  \n",
       "3        3.943716  13.190056  5.300375 -0.168679  \n",
       "4        3.863287  18.380112  5.300375 -0.168679  \n",
       "...           ...        ...       ...       ...  \n",
       "1397955  3.971858  13.190056  5.300375 -0.168679  \n",
       "1397956  3.971858  13.190056  5.300375 -0.168679  \n",
       "1397957  3.971858  13.190056  5.300375 -0.168679  \n",
       "1397958  3.768021  41.609419  5.323182 -0.267350  \n",
       "1397959  3.955396  13.190056  5.300375 -0.168679  \n",
       "\n",
       "[1397960 rows x 16 columns]"
      ]
     },
     "execution_count": 5,
     "metadata": {},
     "output_type": "execute_result"
    }
   ],
   "source": [
    "df = pd.concat([data['target'], data['treatment'], data['data']], axis=1)\n",
    "df['treatment'] = df['treatment'].astype('int32')\n",
    "df['exposure'] = df['exposure'].astype('int32')\n",
    "df['visit'] = df['visit'].astype('int32')\n",
    "df['conversion'] = df['conversion'].astype('int32')\n",
    "df"
   ]
  },
  {
   "attachments": {},
   "cell_type": "markdown",
   "metadata": {},
   "source": [
    "## Plot conditional probabilities of the key events of interest"
   ]
  },
  {
   "cell_type": "code",
   "execution_count": 6,
   "metadata": {},
   "outputs": [
    {
     "name": "stdout",
     "output_type": "stream",
     "text": [
      "   treatment  exposure     visit  conversion\n",
      "0   0.850001  0.030631  0.046992    0.002916\n",
      "\n",
      "           exposure     visit  conversion\n",
      "treatment                                \n",
      "0          0.000000  0.038199    0.001936\n",
      "1          0.036037  0.048544    0.003089\n",
      "\n",
      "             visit  conversion\n",
      "exposure                      \n",
      "0         0.035378    0.001309\n",
      "1         0.414540    0.053782\n",
      "\n",
      "       conversion\n",
      "visit            \n",
      "0        0.000000\n",
      "1        0.062061\n"
     ]
    }
   ],
   "source": [
    "print(pd.DataFrame(df.agg({'treatment':'mean', 'exposure':'mean', 'visit':'mean', 'conversion':'mean'})).T)\n",
    "print()\n",
    "print(df.groupby('treatment')[['exposure', 'visit', 'conversion']].mean())\n",
    "print()\n",
    "print(df.groupby('exposure')[['visit', 'conversion']].mean())\n",
    "print()\n",
    "print(df.groupby('visit')[['conversion']].mean())"
   ]
  },
  {
   "attachments": {},
   "cell_type": "markdown",
   "metadata": {},
   "source": [
    "## Since treatment is randomly assigned we can get causal estimates without any controls"
   ]
  },
  {
   "cell_type": "code",
   "execution_count": 7,
   "metadata": {},
   "outputs": [
    {
     "name": "stdout",
     "output_type": "stream",
     "text": [
      "Effect of treatment on visits\n",
      "==============================================================================\n",
      "                 coef    std err          t      P>|t|      [0.025      0.975]\n",
      "------------------------------------------------------------------------------\n",
      "Intercept      0.0382      0.000     82.670      0.000       0.037       0.039\n",
      "treatment      0.0103      0.001     20.642      0.000       0.009       0.011\n",
      "==============================================================================\n",
      "Effect of treatment on conversions\n",
      "==============================================================================\n",
      "                 coef    std err          t      P>|t|      [0.025      0.975]\n",
      "------------------------------------------------------------------------------\n",
      "Intercept      0.0019      0.000     16.442      0.000       0.002       0.002\n",
      "treatment      0.0012      0.000      9.029      0.000       0.001       0.001\n",
      "==============================================================================\n"
     ]
    }
   ],
   "source": [
    "print(\"Effect of treatment on visits\")\n",
    "print(smf.ols('visit ~ treatment', data=df).fit().summary().tables[1])\n",
    "print(\"Effect of treatment on conversions\")\n",
    "print(smf.ols('conversion ~ treatment', data=df).fit().summary().tables[1])"
   ]
  },
  {
   "attachments": {},
   "cell_type": "markdown",
   "metadata": {},
   "source": [
    "## Exposure is *not* randomly assigned, so we will not get valid causal estimates from this comparison"
   ]
  },
  {
   "cell_type": "code",
   "execution_count": 8,
   "metadata": {},
   "outputs": [
    {
     "name": "stdout",
     "output_type": "stream",
     "text": [
      "Effect of exposure on visits\n",
      "==============================================================================\n",
      "                 coef    std err          t      P>|t|      [0.025      0.975]\n",
      "------------------------------------------------------------------------------\n",
      "Intercept      0.0354      0.000    204.605      0.000       0.035       0.036\n",
      "exposure       0.3792      0.001    383.786      0.000       0.377       0.381\n",
      "==============================================================================\n",
      "Effect of exposure on conversions\n",
      "==============================================================================\n",
      "                 coef    std err          t      P>|t|      [0.025      0.975]\n",
      "------------------------------------------------------------------------------\n",
      "Intercept      0.0013   4.57e-05     28.666      0.000       0.001       0.001\n",
      "exposure       0.0525      0.000    201.100      0.000       0.052       0.053\n",
      "==============================================================================\n"
     ]
    }
   ],
   "source": [
    "print(\"Effect of exposure on visits\")\n",
    "print(smf.ols('visit ~ exposure', data=df).fit().summary().tables[1])\n",
    "print(\"Effect of exposure on conversions\")\n",
    "print(smf.ols('conversion ~ exposure', data=df).fit().summary().tables[1])"
   ]
  },
  {
   "attachments": {},
   "cell_type": "markdown",
   "metadata": {},
   "source": [
    "# Heterogeneous Treatment Effects and Uplift"
   ]
  },
  {
   "cell_type": "code",
   "execution_count": 9,
   "metadata": {},
   "outputs": [],
   "source": [
    "T = 'treatment'\n",
    "Y = 'visit'\n",
    "X = data['feature_names']"
   ]
  },
  {
   "cell_type": "code",
   "execution_count": 10,
   "metadata": {},
   "outputs": [],
   "source": [
    "df_train, df_test = train_test_split(df, test_size=0.3, random_state=0)"
   ]
  },
  {
   "attachments": {},
   "cell_type": "markdown",
   "metadata": {},
   "source": [
    "## Sklift Models"
   ]
  },
  {
   "cell_type": "code",
   "execution_count": 11,
   "metadata": {},
   "outputs": [
    {
     "data": {
      "text/html": [
       "<style>#sk-container-id-1 {color: black;background-color: white;}#sk-container-id-1 pre{padding: 0;}#sk-container-id-1 div.sk-toggleable {background-color: white;}#sk-container-id-1 label.sk-toggleable__label {cursor: pointer;display: block;width: 100%;margin-bottom: 0;padding: 0.3em;box-sizing: border-box;text-align: center;}#sk-container-id-1 label.sk-toggleable__label-arrow:before {content: \"▸\";float: left;margin-right: 0.25em;color: #696969;}#sk-container-id-1 label.sk-toggleable__label-arrow:hover:before {color: black;}#sk-container-id-1 div.sk-estimator:hover label.sk-toggleable__label-arrow:before {color: black;}#sk-container-id-1 div.sk-toggleable__content {max-height: 0;max-width: 0;overflow: hidden;text-align: left;background-color: #f0f8ff;}#sk-container-id-1 div.sk-toggleable__content pre {margin: 0.2em;color: black;border-radius: 0.25em;background-color: #f0f8ff;}#sk-container-id-1 input.sk-toggleable__control:checked~div.sk-toggleable__content {max-height: 200px;max-width: 100%;overflow: auto;}#sk-container-id-1 input.sk-toggleable__control:checked~label.sk-toggleable__label-arrow:before {content: \"▾\";}#sk-container-id-1 div.sk-estimator input.sk-toggleable__control:checked~label.sk-toggleable__label {background-color: #d4ebff;}#sk-container-id-1 div.sk-label input.sk-toggleable__control:checked~label.sk-toggleable__label {background-color: #d4ebff;}#sk-container-id-1 input.sk-hidden--visually {border: 0;clip: rect(1px 1px 1px 1px);clip: rect(1px, 1px, 1px, 1px);height: 1px;margin: -1px;overflow: hidden;padding: 0;position: absolute;width: 1px;}#sk-container-id-1 div.sk-estimator {font-family: monospace;background-color: #f0f8ff;border: 1px dotted black;border-radius: 0.25em;box-sizing: border-box;margin-bottom: 0.5em;}#sk-container-id-1 div.sk-estimator:hover {background-color: #d4ebff;}#sk-container-id-1 div.sk-parallel-item::after {content: \"\";width: 100%;border-bottom: 1px solid gray;flex-grow: 1;}#sk-container-id-1 div.sk-label:hover label.sk-toggleable__label {background-color: #d4ebff;}#sk-container-id-1 div.sk-serial::before {content: \"\";position: absolute;border-left: 1px solid gray;box-sizing: border-box;top: 0;bottom: 0;left: 50%;z-index: 0;}#sk-container-id-1 div.sk-serial {display: flex;flex-direction: column;align-items: center;background-color: white;padding-right: 0.2em;padding-left: 0.2em;position: relative;}#sk-container-id-1 div.sk-item {position: relative;z-index: 1;}#sk-container-id-1 div.sk-parallel {display: flex;align-items: stretch;justify-content: center;background-color: white;position: relative;}#sk-container-id-1 div.sk-item::before, #sk-container-id-1 div.sk-parallel-item::before {content: \"\";position: absolute;border-left: 1px solid gray;box-sizing: border-box;top: 0;bottom: 0;left: 50%;z-index: -1;}#sk-container-id-1 div.sk-parallel-item {display: flex;flex-direction: column;z-index: 1;position: relative;background-color: white;}#sk-container-id-1 div.sk-parallel-item:first-child::after {align-self: flex-end;width: 50%;}#sk-container-id-1 div.sk-parallel-item:last-child::after {align-self: flex-start;width: 50%;}#sk-container-id-1 div.sk-parallel-item:only-child::after {width: 0;}#sk-container-id-1 div.sk-dashed-wrapped {border: 1px dashed gray;margin: 0 0.4em 0.5em 0.4em;box-sizing: border-box;padding-bottom: 0.4em;background-color: white;}#sk-container-id-1 div.sk-label label {font-family: monospace;font-weight: bold;display: inline-block;line-height: 1.2em;}#sk-container-id-1 div.sk-label-container {text-align: center;}#sk-container-id-1 div.sk-container {/* jupyter's `normalize.less` sets `[hidden] { display: none; }` but bootstrap.min.css set `[hidden] { display: none !important; }` so we also need the `!important` here to be able to override the default hidden behavior on the sphinx rendered scikit-learn.org. See: https://github.com/scikit-learn/scikit-learn/issues/21755 */display: inline-block !important;position: relative;}#sk-container-id-1 div.sk-text-repr-fallback {display: none;}</style><div id=\"sk-container-id-1\" class=\"sk-top-container\"><div class=\"sk-text-repr-fallback\"><pre>SoloModel(estimator=XGBClassifier(base_score=0.5, booster=&#x27;gbtree&#x27;,\n",
       "                                  callbacks=None, colsample_bylevel=1,\n",
       "                                  colsample_bynode=1, colsample_bytree=1,\n",
       "                                  early_stopping_rounds=None,\n",
       "                                  enable_categorical=False, eval_metric=None,\n",
       "                                  feature_types=None, gamma=0, gpu_id=-1,\n",
       "                                  grow_policy=&#x27;depthwise&#x27;, importance_type=None,\n",
       "                                  interaction_constraints=&#x27;&#x27;,\n",
       "                                  learning_rate=0.300000012, max_bin=256,\n",
       "                                  max_cat_threshold=64, max_cat_to_onehot=4,\n",
       "                                  max_delta_step=0, max_depth=6, max_leaves=0,\n",
       "                                  min_child_weight=1, missing=nan,\n",
       "                                  monotone_constraints=&#x27;()&#x27;, n_estimators=100,\n",
       "                                  n_jobs=0, num_parallel_tree=1,\n",
       "                                  predictor=&#x27;auto&#x27;, random_state=0, ...))</pre><b>In a Jupyter environment, please rerun this cell to show the HTML representation or trust the notebook. <br />On GitHub, the HTML representation is unable to render, please try loading this page with nbviewer.org.</b></div><div class=\"sk-container\" hidden><div class=\"sk-item sk-dashed-wrapped\"><div class=\"sk-label-container\"><div class=\"sk-label sk-toggleable\"><input class=\"sk-toggleable__control sk-hidden--visually\" id=\"sk-estimator-id-1\" type=\"checkbox\" ><label for=\"sk-estimator-id-1\" class=\"sk-toggleable__label sk-toggleable__label-arrow\">SoloModel</label><div class=\"sk-toggleable__content\"><pre>SoloModel(estimator=XGBClassifier(base_score=0.5, booster=&#x27;gbtree&#x27;,\n",
       "                                  callbacks=None, colsample_bylevel=1,\n",
       "                                  colsample_bynode=1, colsample_bytree=1,\n",
       "                                  early_stopping_rounds=None,\n",
       "                                  enable_categorical=False, eval_metric=None,\n",
       "                                  feature_types=None, gamma=0, gpu_id=-1,\n",
       "                                  grow_policy=&#x27;depthwise&#x27;, importance_type=None,\n",
       "                                  interaction_constraints=&#x27;&#x27;,\n",
       "                                  learning_rate=0.300000012, max_bin=256,\n",
       "                                  max_cat_threshold=64, max_cat_to_onehot=4,\n",
       "                                  max_delta_step=0, max_depth=6, max_leaves=0,\n",
       "                                  min_child_weight=1, missing=nan,\n",
       "                                  monotone_constraints=&#x27;()&#x27;, n_estimators=100,\n",
       "                                  n_jobs=0, num_parallel_tree=1,\n",
       "                                  predictor=&#x27;auto&#x27;, random_state=0, ...))</pre></div></div></div><div class=\"sk-parallel\"><div class=\"sk-parallel-item\"><div class=\"sk-item\"><div class=\"sk-label-container\"><div class=\"sk-label sk-toggleable\"><input class=\"sk-toggleable__control sk-hidden--visually\" id=\"sk-estimator-id-2\" type=\"checkbox\" ><label for=\"sk-estimator-id-2\" class=\"sk-toggleable__label sk-toggleable__label-arrow\">estimator: XGBClassifier</label><div class=\"sk-toggleable__content\"><pre>XGBClassifier(base_score=0.5, booster=&#x27;gbtree&#x27;, callbacks=None,\n",
       "              colsample_bylevel=1, colsample_bynode=1, colsample_bytree=1,\n",
       "              early_stopping_rounds=None, enable_categorical=False,\n",
       "              eval_metric=None, feature_types=None, gamma=0, gpu_id=-1,\n",
       "              grow_policy=&#x27;depthwise&#x27;, importance_type=None,\n",
       "              interaction_constraints=&#x27;&#x27;, learning_rate=0.300000012,\n",
       "              max_bin=256, max_cat_threshold=64, max_cat_to_onehot=4,\n",
       "              max_delta_step=0, max_depth=6, max_leaves=0, min_child_weight=1,\n",
       "              missing=nan, monotone_constraints=&#x27;()&#x27;, n_estimators=100,\n",
       "              n_jobs=0, num_parallel_tree=1, predictor=&#x27;auto&#x27;, random_state=0, ...)</pre></div></div></div><div class=\"sk-serial\"><div class=\"sk-item\"><div class=\"sk-estimator sk-toggleable\"><input class=\"sk-toggleable__control sk-hidden--visually\" id=\"sk-estimator-id-3\" type=\"checkbox\" ><label for=\"sk-estimator-id-3\" class=\"sk-toggleable__label sk-toggleable__label-arrow\">XGBClassifier</label><div class=\"sk-toggleable__content\"><pre>XGBClassifier(base_score=0.5, booster=&#x27;gbtree&#x27;, callbacks=None,\n",
       "              colsample_bylevel=1, colsample_bynode=1, colsample_bytree=1,\n",
       "              early_stopping_rounds=None, enable_categorical=False,\n",
       "              eval_metric=None, feature_types=None, gamma=0, gpu_id=-1,\n",
       "              grow_policy=&#x27;depthwise&#x27;, importance_type=None,\n",
       "              interaction_constraints=&#x27;&#x27;, learning_rate=0.300000012,\n",
       "              max_bin=256, max_cat_threshold=64, max_cat_to_onehot=4,\n",
       "              max_delta_step=0, max_depth=6, max_leaves=0, min_child_weight=1,\n",
       "              missing=nan, monotone_constraints=&#x27;()&#x27;, n_estimators=100,\n",
       "              n_jobs=0, num_parallel_tree=1, predictor=&#x27;auto&#x27;, random_state=0, ...)</pre></div></div></div></div></div></div></div></div></div></div>"
      ],
      "text/plain": [
       "SoloModel(estimator=XGBClassifier(base_score=0.5, booster='gbtree',\n",
       "                                  callbacks=None, colsample_bylevel=1,\n",
       "                                  colsample_bynode=1, colsample_bytree=1,\n",
       "                                  early_stopping_rounds=None,\n",
       "                                  enable_categorical=False, eval_metric=None,\n",
       "                                  feature_types=None, gamma=0, gpu_id=-1,\n",
       "                                  grow_policy='depthwise', importance_type=None,\n",
       "                                  interaction_constraints='',\n",
       "                                  learning_rate=0.300000012, max_bin=256,\n",
       "                                  max_cat_threshold=64, max_cat_to_onehot=4,\n",
       "                                  max_delta_step=0, max_depth=6, max_leaves=0,\n",
       "                                  min_child_weight=1, missing=nan,\n",
       "                                  monotone_constraints='()', n_estimators=100,\n",
       "                                  n_jobs=0, num_parallel_tree=1,\n",
       "                                  predictor='auto', random_state=0, ...))"
      ]
     },
     "execution_count": 11,
     "metadata": {},
     "output_type": "execute_result"
    }
   ],
   "source": [
    "slearner = SoloModel(XGBClassifier())\n",
    "slearner.fit(X=df_train[X], y=df_train[Y], treatment=df_train[T])"
   ]
  },
  {
   "cell_type": "code",
   "execution_count": 12,
   "metadata": {},
   "outputs": [
    {
     "data": {
      "text/html": [
       "<style>#sk-container-id-2 {color: black;background-color: white;}#sk-container-id-2 pre{padding: 0;}#sk-container-id-2 div.sk-toggleable {background-color: white;}#sk-container-id-2 label.sk-toggleable__label {cursor: pointer;display: block;width: 100%;margin-bottom: 0;padding: 0.3em;box-sizing: border-box;text-align: center;}#sk-container-id-2 label.sk-toggleable__label-arrow:before {content: \"▸\";float: left;margin-right: 0.25em;color: #696969;}#sk-container-id-2 label.sk-toggleable__label-arrow:hover:before {color: black;}#sk-container-id-2 div.sk-estimator:hover label.sk-toggleable__label-arrow:before {color: black;}#sk-container-id-2 div.sk-toggleable__content {max-height: 0;max-width: 0;overflow: hidden;text-align: left;background-color: #f0f8ff;}#sk-container-id-2 div.sk-toggleable__content pre {margin: 0.2em;color: black;border-radius: 0.25em;background-color: #f0f8ff;}#sk-container-id-2 input.sk-toggleable__control:checked~div.sk-toggleable__content {max-height: 200px;max-width: 100%;overflow: auto;}#sk-container-id-2 input.sk-toggleable__control:checked~label.sk-toggleable__label-arrow:before {content: \"▾\";}#sk-container-id-2 div.sk-estimator input.sk-toggleable__control:checked~label.sk-toggleable__label {background-color: #d4ebff;}#sk-container-id-2 div.sk-label input.sk-toggleable__control:checked~label.sk-toggleable__label {background-color: #d4ebff;}#sk-container-id-2 input.sk-hidden--visually {border: 0;clip: rect(1px 1px 1px 1px);clip: rect(1px, 1px, 1px, 1px);height: 1px;margin: -1px;overflow: hidden;padding: 0;position: absolute;width: 1px;}#sk-container-id-2 div.sk-estimator {font-family: monospace;background-color: #f0f8ff;border: 1px dotted black;border-radius: 0.25em;box-sizing: border-box;margin-bottom: 0.5em;}#sk-container-id-2 div.sk-estimator:hover {background-color: #d4ebff;}#sk-container-id-2 div.sk-parallel-item::after {content: \"\";width: 100%;border-bottom: 1px solid gray;flex-grow: 1;}#sk-container-id-2 div.sk-label:hover label.sk-toggleable__label {background-color: #d4ebff;}#sk-container-id-2 div.sk-serial::before {content: \"\";position: absolute;border-left: 1px solid gray;box-sizing: border-box;top: 0;bottom: 0;left: 50%;z-index: 0;}#sk-container-id-2 div.sk-serial {display: flex;flex-direction: column;align-items: center;background-color: white;padding-right: 0.2em;padding-left: 0.2em;position: relative;}#sk-container-id-2 div.sk-item {position: relative;z-index: 1;}#sk-container-id-2 div.sk-parallel {display: flex;align-items: stretch;justify-content: center;background-color: white;position: relative;}#sk-container-id-2 div.sk-item::before, #sk-container-id-2 div.sk-parallel-item::before {content: \"\";position: absolute;border-left: 1px solid gray;box-sizing: border-box;top: 0;bottom: 0;left: 50%;z-index: -1;}#sk-container-id-2 div.sk-parallel-item {display: flex;flex-direction: column;z-index: 1;position: relative;background-color: white;}#sk-container-id-2 div.sk-parallel-item:first-child::after {align-self: flex-end;width: 50%;}#sk-container-id-2 div.sk-parallel-item:last-child::after {align-self: flex-start;width: 50%;}#sk-container-id-2 div.sk-parallel-item:only-child::after {width: 0;}#sk-container-id-2 div.sk-dashed-wrapped {border: 1px dashed gray;margin: 0 0.4em 0.5em 0.4em;box-sizing: border-box;padding-bottom: 0.4em;background-color: white;}#sk-container-id-2 div.sk-label label {font-family: monospace;font-weight: bold;display: inline-block;line-height: 1.2em;}#sk-container-id-2 div.sk-label-container {text-align: center;}#sk-container-id-2 div.sk-container {/* jupyter's `normalize.less` sets `[hidden] { display: none; }` but bootstrap.min.css set `[hidden] { display: none !important; }` so we also need the `!important` here to be able to override the default hidden behavior on the sphinx rendered scikit-learn.org. See: https://github.com/scikit-learn/scikit-learn/issues/21755 */display: inline-block !important;position: relative;}#sk-container-id-2 div.sk-text-repr-fallback {display: none;}</style><div id=\"sk-container-id-2\" class=\"sk-top-container\"><div class=\"sk-text-repr-fallback\"><pre>TwoModels(estimator_ctrl=XGBClassifier(base_score=0.5, booster=&#x27;gbtree&#x27;,\n",
       "                                       callbacks=None, colsample_bylevel=1,\n",
       "                                       colsample_bynode=1, colsample_bytree=1,\n",
       "                                       early_stopping_rounds=None,\n",
       "                                       enable_categorical=False,\n",
       "                                       eval_metric=None, feature_types=None,\n",
       "                                       gamma=0, gpu_id=-1,\n",
       "                                       grow_policy=&#x27;depthwise&#x27;,\n",
       "                                       importance_type=None,\n",
       "                                       interaction_constraints=&#x27;&#x27;,\n",
       "                                       learning_rate=0.300000012, ma...\n",
       "                                        gamma=0, gpu_id=-1,\n",
       "                                        grow_policy=&#x27;depthwise&#x27;,\n",
       "                                        importance_type=None,\n",
       "                                        interaction_constraints=&#x27;&#x27;,\n",
       "                                        learning_rate=0.300000012, max_bin=256,\n",
       "                                        max_cat_threshold=64,\n",
       "                                        max_cat_to_onehot=4, max_delta_step=0,\n",
       "                                        max_depth=6, max_leaves=0,\n",
       "                                        min_child_weight=1, missing=nan,\n",
       "                                        monotone_constraints=&#x27;()&#x27;,\n",
       "                                        n_estimators=100, n_jobs=0,\n",
       "                                        num_parallel_tree=1, predictor=&#x27;auto&#x27;,\n",
       "                                        random_state=0, ...))</pre><b>In a Jupyter environment, please rerun this cell to show the HTML representation or trust the notebook. <br />On GitHub, the HTML representation is unable to render, please try loading this page with nbviewer.org.</b></div><div class=\"sk-container\" hidden><div class=\"sk-item sk-dashed-wrapped\"><div class=\"sk-label-container\"><div class=\"sk-label sk-toggleable\"><input class=\"sk-toggleable__control sk-hidden--visually\" id=\"sk-estimator-id-4\" type=\"checkbox\" ><label for=\"sk-estimator-id-4\" class=\"sk-toggleable__label sk-toggleable__label-arrow\">TwoModels</label><div class=\"sk-toggleable__content\"><pre>TwoModels(estimator_ctrl=XGBClassifier(base_score=0.5, booster=&#x27;gbtree&#x27;,\n",
       "                                       callbacks=None, colsample_bylevel=1,\n",
       "                                       colsample_bynode=1, colsample_bytree=1,\n",
       "                                       early_stopping_rounds=None,\n",
       "                                       enable_categorical=False,\n",
       "                                       eval_metric=None, feature_types=None,\n",
       "                                       gamma=0, gpu_id=-1,\n",
       "                                       grow_policy=&#x27;depthwise&#x27;,\n",
       "                                       importance_type=None,\n",
       "                                       interaction_constraints=&#x27;&#x27;,\n",
       "                                       learning_rate=0.300000012, ma...\n",
       "                                        gamma=0, gpu_id=-1,\n",
       "                                        grow_policy=&#x27;depthwise&#x27;,\n",
       "                                        importance_type=None,\n",
       "                                        interaction_constraints=&#x27;&#x27;,\n",
       "                                        learning_rate=0.300000012, max_bin=256,\n",
       "                                        max_cat_threshold=64,\n",
       "                                        max_cat_to_onehot=4, max_delta_step=0,\n",
       "                                        max_depth=6, max_leaves=0,\n",
       "                                        min_child_weight=1, missing=nan,\n",
       "                                        monotone_constraints=&#x27;()&#x27;,\n",
       "                                        n_estimators=100, n_jobs=0,\n",
       "                                        num_parallel_tree=1, predictor=&#x27;auto&#x27;,\n",
       "                                        random_state=0, ...))</pre></div></div></div><div class=\"sk-parallel\"><div class=\"sk-parallel-item\"><div class=\"sk-item\"><div class=\"sk-label-container\"><div class=\"sk-label sk-toggleable\"><input class=\"sk-toggleable__control sk-hidden--visually\" id=\"sk-estimator-id-5\" type=\"checkbox\" ><label for=\"sk-estimator-id-5\" class=\"sk-toggleable__label sk-toggleable__label-arrow\">estimator_ctrl: XGBClassifier</label><div class=\"sk-toggleable__content\"><pre>XGBClassifier(base_score=0.5, booster=&#x27;gbtree&#x27;, callbacks=None,\n",
       "              colsample_bylevel=1, colsample_bynode=1, colsample_bytree=1,\n",
       "              early_stopping_rounds=None, enable_categorical=False,\n",
       "              eval_metric=None, feature_types=None, gamma=0, gpu_id=-1,\n",
       "              grow_policy=&#x27;depthwise&#x27;, importance_type=None,\n",
       "              interaction_constraints=&#x27;&#x27;, learning_rate=0.300000012,\n",
       "              max_bin=256, max_cat_threshold=64, max_cat_to_onehot=4,\n",
       "              max_delta_step=0, max_depth=6, max_leaves=0, min_child_weight=1,\n",
       "              missing=nan, monotone_constraints=&#x27;()&#x27;, n_estimators=100,\n",
       "              n_jobs=0, num_parallel_tree=1, predictor=&#x27;auto&#x27;, random_state=0, ...)</pre></div></div></div><div class=\"sk-serial\"><div class=\"sk-item\"><div class=\"sk-estimator sk-toggleable\"><input class=\"sk-toggleable__control sk-hidden--visually\" id=\"sk-estimator-id-6\" type=\"checkbox\" ><label for=\"sk-estimator-id-6\" class=\"sk-toggleable__label sk-toggleable__label-arrow\">XGBClassifier</label><div class=\"sk-toggleable__content\"><pre>XGBClassifier(base_score=0.5, booster=&#x27;gbtree&#x27;, callbacks=None,\n",
       "              colsample_bylevel=1, colsample_bynode=1, colsample_bytree=1,\n",
       "              early_stopping_rounds=None, enable_categorical=False,\n",
       "              eval_metric=None, feature_types=None, gamma=0, gpu_id=-1,\n",
       "              grow_policy=&#x27;depthwise&#x27;, importance_type=None,\n",
       "              interaction_constraints=&#x27;&#x27;, learning_rate=0.300000012,\n",
       "              max_bin=256, max_cat_threshold=64, max_cat_to_onehot=4,\n",
       "              max_delta_step=0, max_depth=6, max_leaves=0, min_child_weight=1,\n",
       "              missing=nan, monotone_constraints=&#x27;()&#x27;, n_estimators=100,\n",
       "              n_jobs=0, num_parallel_tree=1, predictor=&#x27;auto&#x27;, random_state=0, ...)</pre></div></div></div></div></div></div><div class=\"sk-parallel-item\"><div class=\"sk-item\"><div class=\"sk-label-container\"><div class=\"sk-label sk-toggleable\"><input class=\"sk-toggleable__control sk-hidden--visually\" id=\"sk-estimator-id-7\" type=\"checkbox\" ><label for=\"sk-estimator-id-7\" class=\"sk-toggleable__label sk-toggleable__label-arrow\">estimator_trmnt: XGBClassifier</label><div class=\"sk-toggleable__content\"><pre>XGBClassifier(base_score=0.5, booster=&#x27;gbtree&#x27;, callbacks=None,\n",
       "              colsample_bylevel=1, colsample_bynode=1, colsample_bytree=1,\n",
       "              early_stopping_rounds=None, enable_categorical=False,\n",
       "              eval_metric=None, feature_types=None, gamma=0, gpu_id=-1,\n",
       "              grow_policy=&#x27;depthwise&#x27;, importance_type=None,\n",
       "              interaction_constraints=&#x27;&#x27;, learning_rate=0.300000012,\n",
       "              max_bin=256, max_cat_threshold=64, max_cat_to_onehot=4,\n",
       "              max_delta_step=0, max_depth=6, max_leaves=0, min_child_weight=1,\n",
       "              missing=nan, monotone_constraints=&#x27;()&#x27;, n_estimators=100,\n",
       "              n_jobs=0, num_parallel_tree=1, predictor=&#x27;auto&#x27;, random_state=0, ...)</pre></div></div></div><div class=\"sk-serial\"><div class=\"sk-item\"><div class=\"sk-estimator sk-toggleable\"><input class=\"sk-toggleable__control sk-hidden--visually\" id=\"sk-estimator-id-8\" type=\"checkbox\" ><label for=\"sk-estimator-id-8\" class=\"sk-toggleable__label sk-toggleable__label-arrow\">XGBClassifier</label><div class=\"sk-toggleable__content\"><pre>XGBClassifier(base_score=0.5, booster=&#x27;gbtree&#x27;, callbacks=None,\n",
       "              colsample_bylevel=1, colsample_bynode=1, colsample_bytree=1,\n",
       "              early_stopping_rounds=None, enable_categorical=False,\n",
       "              eval_metric=None, feature_types=None, gamma=0, gpu_id=-1,\n",
       "              grow_policy=&#x27;depthwise&#x27;, importance_type=None,\n",
       "              interaction_constraints=&#x27;&#x27;, learning_rate=0.300000012,\n",
       "              max_bin=256, max_cat_threshold=64, max_cat_to_onehot=4,\n",
       "              max_delta_step=0, max_depth=6, max_leaves=0, min_child_weight=1,\n",
       "              missing=nan, monotone_constraints=&#x27;()&#x27;, n_estimators=100,\n",
       "              n_jobs=0, num_parallel_tree=1, predictor=&#x27;auto&#x27;, random_state=0, ...)</pre></div></div></div></div></div></div></div></div></div></div>"
      ],
      "text/plain": [
       "TwoModels(estimator_ctrl=XGBClassifier(base_score=0.5, booster='gbtree',\n",
       "                                       callbacks=None, colsample_bylevel=1,\n",
       "                                       colsample_bynode=1, colsample_bytree=1,\n",
       "                                       early_stopping_rounds=None,\n",
       "                                       enable_categorical=False,\n",
       "                                       eval_metric=None, feature_types=None,\n",
       "                                       gamma=0, gpu_id=-1,\n",
       "                                       grow_policy='depthwise',\n",
       "                                       importance_type=None,\n",
       "                                       interaction_constraints='',\n",
       "                                       learning_rate=0.300000012, ma...\n",
       "                                        gamma=0, gpu_id=-1,\n",
       "                                        grow_policy='depthwise',\n",
       "                                        importance_type=None,\n",
       "                                        interaction_constraints='',\n",
       "                                        learning_rate=0.300000012, max_bin=256,\n",
       "                                        max_cat_threshold=64,\n",
       "                                        max_cat_to_onehot=4, max_delta_step=0,\n",
       "                                        max_depth=6, max_leaves=0,\n",
       "                                        min_child_weight=1, missing=nan,\n",
       "                                        monotone_constraints='()',\n",
       "                                        n_estimators=100, n_jobs=0,\n",
       "                                        num_parallel_tree=1, predictor='auto',\n",
       "                                        random_state=0, ...))"
      ]
     },
     "execution_count": 12,
     "metadata": {},
     "output_type": "execute_result"
    }
   ],
   "source": [
    "tlearner = TwoModels(XGBClassifier(), XGBClassifier())\n",
    "tlearner.fit(X=df_train[X], y=df_train[Y], treatment=df_train[T])"
   ]
  },
  {
   "cell_type": "code",
   "execution_count": 13,
   "metadata": {},
   "outputs": [],
   "source": [
    "# Generate predicted uplift for each observation in the test set\n",
    "slearner_test_preds = slearner.predict(df_test[X])\n",
    "tlearner_test_preds = tlearner.predict(df_test[X])"
   ]
  },
  {
   "cell_type": "code",
   "execution_count": 14,
   "metadata": {},
   "outputs": [
    {
     "data": {
      "image/png": "[encoded data removed]",
      "text/plain": [
       "<Figure size 800x600 with 1 Axes>"
      ]
     },
     "metadata": {},
     "output_type": "display_data"
    }
   ],
   "source": [
    "plot_uplift_by_percentile(df_test[Y], slearner_test_preds, df_test[T]);"
   ]
  },
  {
   "attachments": {},
   "cell_type": "markdown",
   "metadata": {},
   "source": [
    "## EconML Models"
   ]
  },
  {
   "cell_type": "code",
   "execution_count": 15,
   "metadata": {},
   "outputs": [
    {
     "data": {
      "text/plain": [
       "<econml.metalearners._metalearners.SLearner at 0x16a9090c0>"
      ]
     },
     "execution_count": 15,
     "metadata": {},
     "output_type": "execute_result"
    }
   ],
   "source": [
    "# Models from econml\n",
    "slearner_econml = SLearner(overall_model = XGBRegressor())\n",
    "slearner_econml.fit(Y=df_train[Y], T=df_train[T], X=df_train[X])"
   ]
  },
  {
   "cell_type": "code",
   "execution_count": 16,
   "metadata": {},
   "outputs": [
    {
     "data": {
      "text/plain": [
       "<econml.metalearners._metalearners.TLearner at 0x16a9098a0>"
      ]
     },
     "execution_count": 16,
     "metadata": {},
     "output_type": "execute_result"
    }
   ],
   "source": [
    "tlearner_econml = TLearner(models = XGBRegressor())\n",
    "tlearner_econml.fit(Y=df_train[Y], T=df_train[T], X=df_train[X])"
   ]
  },
  {
   "cell_type": "code",
   "execution_count": 17,
   "metadata": {},
   "outputs": [
    {
     "data": {
      "text/plain": [
       "<econml.metalearners._metalearners.XLearner at 0x16a909cc0>"
      ]
     },
     "execution_count": 17,
     "metadata": {},
     "output_type": "execute_result"
    }
   ],
   "source": [
    "xlearner_econml = XLearner(\n",
    "    models = XGBRegressor(), \n",
    "    cate_models=XGBRegressor(),\n",
    "    propensity_model=XGBClassifier())\n",
    "xlearner_econml.fit(Y=df_train[Y], T=df_train[T], X=df_train[X])"
   ]
  },
  {
   "cell_type": "code",
   "execution_count": 18,
   "metadata": {},
   "outputs": [],
   "source": [
    "# Econml uses a different function to estimate the treatment effects\n",
    "slearner_econml_test_preds = slearner_econml.effect(df_test[X])\n",
    "tlearner_econml_test_preds = tlearner_econml.effect(df_test[X])\n",
    "xlearner_econml_test_preds = xlearner_econml.effect(df_test[X])"
   ]
  },
  {
   "attachments": {},
   "cell_type": "markdown",
   "metadata": {},
   "source": [
    "## Direct Prediction Models"
   ]
  },
  {
   "cell_type": "code",
   "execution_count": 19,
   "metadata": {},
   "outputs": [],
   "source": [
    "outcome_predictor = XGBClassifier()\n",
    "outcome_predictor.fit(df_train[X], df_train[Y])\n",
    "outcome_predictor_test_preds = outcome_predictor.predict_proba(df_test[X])[:, 1]"
   ]
  },
  {
   "attachments": {},
   "cell_type": "markdown",
   "metadata": {},
   "source": [
    "# Model Comparison"
   ]
  },
  {
   "cell_type": "code",
   "execution_count": 20,
   "metadata": {},
   "outputs": [
    {
     "data": {
      "text/plain": [
       "<sklift.viz.base.UpliftCurveDisplay at 0x16a909480>"
      ]
     },
     "execution_count": 20,
     "metadata": {},
     "output_type": "execute_result"
    },
    {
     "data": {
      "image/png": "[encoded data removed]",
      "text/plain": [
       "<Figure size 1000x600 with 1 Axes>"
      ]
     },
     "metadata": {},
     "output_type": "display_data"
    }
   ],
   "source": [
    "fig, ax = plt.subplots(figsize=(10, 6))\n",
    "plot_qini_curve(df_test[Y], outcome_predictor_test_preds, df_test[T], name='Outcome Predictor', ax=ax)\n",
    "plot_qini_curve(df_test[Y], slearner_test_preds, df_test[T], name='Slearner', ax=ax)\n",
    "plot_qini_curve(df_test[Y], tlearner_test_preds, df_test[T], name='Tlearner', ax=ax)\n",
    "plot_qini_curve(df_test[Y], slearner_econml_test_preds, df_test[T], name='Slearner EconML', ax=ax)\n",
    "plot_qini_curve(df_test[Y], tlearner_econml_test_preds, df_test[T], name='Tlearner EconML', ax=ax)\n",
    "plot_qini_curve(df_test[Y], xlearner_econml_test_preds, df_test[T], name='Xlearner EconML', ax=ax)\n",
    "ax.set_ylim(0, 3000)"
   ]
  },
  {
   "cell_type": "code",
   "execution_count": 21,
   "metadata": {},
   "outputs": [],
   "source": [
    "def eval_model(data, uplift, name, sample_name):\n",
    "    return {\n",
    "        'model': name,\n",
    "        'sample': sample_name,\n",
    "        'uplift@10%': uplift_at_k(data[Y], uplift, data[T], strategy=\"overall\", k=0.10),\n",
    "        'uplift@25%': uplift_at_k(data[Y], uplift, data[T], strategy=\"overall\", k=0.25),\n",
    "        'uplift@50%': uplift_at_k(data[Y], uplift, data[T], strategy=\"overall\", k=0.50),\n",
    "        'uplift_auc_score': uplift_auc_score(data[Y], uplift, data[T]),\n",
    "        'qini_auc_score': qini_auc_score(data[Y], uplift, data[T]),\n",
    "        'weighted_average_uplift': weighted_average_uplift(data[Y], uplift, data[T]),\n",
    "    }"
   ]
  },
  {
   "cell_type": "code",
   "execution_count": 22,
   "metadata": {},
   "outputs": [
    {
     "data": {
      "text/html": [
       "<div>\n",
       "<style scoped>\n",
       "    .dataframe tbody tr th:only-of-type {\n",
       "        vertical-align: middle;\n",
       "    }\n",
       "\n",
       "    .dataframe tbody tr th {\n",
       "        vertical-align: top;\n",
       "    }\n",
       "\n",
       "    .dataframe thead th {\n",
       "        text-align: right;\n",
       "    }\n",
       "</style>\n",
       "<table border=\"1\" class=\"dataframe\">\n",
       "  <thead>\n",
       "    <tr style=\"text-align: right;\">\n",
       "      <th></th>\n",
       "      <th>model</th>\n",
       "      <th>sample</th>\n",
       "      <th>uplift@10%</th>\n",
       "      <th>uplift@25%</th>\n",
       "      <th>uplift@50%</th>\n",
       "      <th>uplift_auc_score</th>\n",
       "      <th>qini_auc_score</th>\n",
       "      <th>weighted_average_uplift</th>\n",
       "    </tr>\n",
       "  </thead>\n",
       "  <tbody>\n",
       "    <tr>\n",
       "      <th>0</th>\n",
       "      <td>outcome predictor</td>\n",
       "      <td>test</td>\n",
       "      <td>0.055651</td>\n",
       "      <td>0.034255</td>\n",
       "      <td>0.021179</td>\n",
       "      <td>0.035885</td>\n",
       "      <td>0.092130</td>\n",
       "      <td>0.008507</td>\n",
       "    </tr>\n",
       "    <tr>\n",
       "      <th>1</th>\n",
       "      <td>s-learner</td>\n",
       "      <td>test</td>\n",
       "      <td>0.057787</td>\n",
       "      <td>0.034358</td>\n",
       "      <td>0.020148</td>\n",
       "      <td>0.033394</td>\n",
       "      <td>0.086060</td>\n",
       "      <td>0.008450</td>\n",
       "    </tr>\n",
       "    <tr>\n",
       "      <th>2</th>\n",
       "      <td>t-learner</td>\n",
       "      <td>test</td>\n",
       "      <td>0.054184</td>\n",
       "      <td>0.031893</td>\n",
       "      <td>0.017856</td>\n",
       "      <td>0.026156</td>\n",
       "      <td>0.067479</td>\n",
       "      <td>0.009129</td>\n",
       "    </tr>\n",
       "    <tr>\n",
       "      <th>3</th>\n",
       "      <td>s-learner econml</td>\n",
       "      <td>test</td>\n",
       "      <td>0.063929</td>\n",
       "      <td>0.032594</td>\n",
       "      <td>0.018285</td>\n",
       "      <td>0.028595</td>\n",
       "      <td>0.073842</td>\n",
       "      <td>0.008840</td>\n",
       "    </tr>\n",
       "    <tr>\n",
       "      <th>4</th>\n",
       "      <td>t-learner econml</td>\n",
       "      <td>test</td>\n",
       "      <td>0.049324</td>\n",
       "      <td>0.030645</td>\n",
       "      <td>0.017022</td>\n",
       "      <td>0.021880</td>\n",
       "      <td>0.056290</td>\n",
       "      <td>0.008848</td>\n",
       "    </tr>\n",
       "    <tr>\n",
       "      <th>5</th>\n",
       "      <td>x-learner econml</td>\n",
       "      <td>test</td>\n",
       "      <td>0.054046</td>\n",
       "      <td>0.031765</td>\n",
       "      <td>0.018371</td>\n",
       "      <td>0.025802</td>\n",
       "      <td>0.066482</td>\n",
       "      <td>0.009013</td>\n",
       "    </tr>\n",
       "  </tbody>\n",
       "</table>\n",
       "</div>"
      ],
      "text/plain": [
       "               model sample  uplift@10%  uplift@25%  uplift@50%  \\\n",
       "0  outcome predictor   test    0.055651    0.034255    0.021179   \n",
       "1          s-learner   test    0.057787    0.034358    0.020148   \n",
       "2          t-learner   test    0.054184    0.031893    0.017856   \n",
       "3   s-learner econml   test    0.063929    0.032594    0.018285   \n",
       "4   t-learner econml   test    0.049324    0.030645    0.017022   \n",
       "5   x-learner econml   test    0.054046    0.031765    0.018371   \n",
       "\n",
       "   uplift_auc_score  qini_auc_score  weighted_average_uplift  \n",
       "0          0.035885        0.092130                 0.008507  \n",
       "1          0.033394        0.086060                 0.008450  \n",
       "2          0.026156        0.067479                 0.009129  \n",
       "3          0.028595        0.073842                 0.008840  \n",
       "4          0.021880        0.056290                 0.008848  \n",
       "5          0.025802        0.066482                 0.009013  "
      ]
     },
     "execution_count": 22,
     "metadata": {},
     "output_type": "execute_result"
    }
   ],
   "source": [
    "pd.DataFrame([\n",
    "    eval_model(df_test, outcome_predictor_test_preds, 'outcome predictor', 'test'),\n",
    "    eval_model(df_test, slearner_test_preds, 's-learner', 'test'),\n",
    "    eval_model(df_test, tlearner_test_preds, 't-learner', 'test'),\n",
    "    eval_model(df_test, slearner_econml_test_preds, 's-learner econml', 'test'),\n",
    "    eval_model(df_test, tlearner_econml_test_preds, 't-learner econml', 'test'),\n",
    "    eval_model(df_test, xlearner_econml_test_preds, 'x-learner econml', 'test'),\n",
    "])"
   ]
  },
  {
   "attachments": {},
   "cell_type": "markdown",
   "metadata": {},
   "source": [
    "# Repeat process with conversion as the outcome of interest"
   ]
  },
  {
   "cell_type": "code",
   "execution_count": 23,
   "metadata": {},
   "outputs": [],
   "source": [
    "T = 'treatment'\n",
    "Y = 'conversion'\n",
    "X = data['feature_names']\n",
    "\n",
    "slearner = SoloModel(XGBClassifier())\n",
    "slearner.fit(X=df_train[X], y=df_train[Y], treatment=df_train[T])\n",
    "slearner_test_preds = slearner.predict(df_test[X])\n",
    "\n",
    "tlearner = TwoModels(XGBClassifier(), XGBClassifier())\n",
    "tlearner.fit(X=df_train[X], y=df_train[Y], treatment=df_train[T])\n",
    "tlearner_test_preds = tlearner.predict(df_test[X])\n",
    "\n",
    "# Models from econml\n",
    "slearner_econml = SLearner(overall_model = XGBRegressor())\n",
    "slearner_econml.fit(Y=df_train[Y], T=df_train[T], X=df_train[X])\n",
    "slearner_econml_test_preds = slearner_econml.effect(df_test[X])\n",
    "\n",
    "tlearner_econml = TLearner(models = XGBRegressor())\n",
    "tlearner_econml.fit(Y=df_train[Y], T=df_train[T], X=df_train[X])\n",
    "tlearner_econml_test_preds = tlearner_econml.effect(df_test[X])\n",
    "\n",
    "xlearner_econml = XLearner(\n",
    "    models = XGBRegressor(), \n",
    "    cate_models=XGBRegressor(),\n",
    "    propensity_model=XGBClassifier())\n",
    "xlearner_econml.fit(Y=df_train[Y], T=df_train[T], X=df_train[X])\n",
    "xlearner_econml_test_preds = xlearner_econml.effect(df_test[X])\n",
    "\n",
    "# Direct Prediction Models\n",
    "outcome_predictor = XGBClassifier()\n",
    "outcome_predictor.fit(df_train[X], df_train[Y])\n",
    "outcome_predictor_test_preds = outcome_predictor.predict_proba(df_test[X])[:, 1]"
   ]
  },
  {
   "cell_type": "code",
   "execution_count": null,
   "metadata": {},
   "outputs": [],
   "source": [
    "## With conversion as our outcome, we can also make a prediction model that predicts visit\n",
    "## and then use that as a proxy variable for conversion. The idea here is that visits are much more common\n",
    "## than conversions, so they are easier to predict. We then assume that users who visit the site are more likely\n",
    "## to convert than users who don't visit the site. \n",
    "proxy_predictor = XGBClassifier()\n",
    "proxy_predictor.fit(df_train[X], df_train['visit'])\n",
    "proxy_predictor_test_preds = proxy_predictor.predict_proba(df_test[X])[:, 1]"
   ]
  },
  {
   "cell_type": "code",
   "execution_count": null,
   "metadata": {},
   "outputs": [],
   "source": [
    "fig, ax = plt.subplots(figsize=(10, 6))\n",
    "#plot_qini_curve(df_test[Y], outcome_predictor_test_preds, df_test[T], perfect=True, negative_effect=False, name='Outcome Predictor', ax=ax)\n",
    "plot_qini_curve(df_test[Y], outcome_predictor_test_preds, df_test[T], name='Outcome Predictor', ax=ax, color='black')\n",
    "plot_qini_curve(df_test[Y], proxy_predictor_test_preds, df_test[T], name='Proxy Predictor', ax=ax, color='grey', linestyle='dotted')\n",
    "plot_qini_curve(df_test[Y], slearner_test_preds, df_test[T], name='Slearner', ax=ax)\n",
    "plot_qini_curve(df_test[Y], tlearner_test_preds, df_test[T], name='Tlearner', ax=ax);\n",
    "plot_qini_curve(df_test[Y], slearner_econml_test_preds, df_test[T], name='Slearner EconML', ax=ax)\n",
    "plot_qini_curve(df_test[Y], tlearner_econml_test_preds, df_test[T], name='Tlearner EconML', ax=ax)\n",
    "plot_qini_curve(df_test[Y], xlearner_econml_test_preds, df_test[T], name='Xlearner EconML', ax=ax)\n",
    "ax.set_ylim(0, 375)"
   ]
  },
  {
   "cell_type": "code",
   "execution_count": null,
   "metadata": {},
   "outputs": [],
   "source": [
    "pd.DataFrame([\n",
    "    eval_model(df_test, outcome_predictor_test_preds, 'outcome predictor', 'test'),\n",
    "    eval_model(df_test, proxy_predictor_test_preds, 'proxy predictor', 'test'),\n",
    "    eval_model(df_test, slearner_test_preds, 's-learner', 'test'),\n",
    "    eval_model(df_test, tlearner_test_preds, 't-learner', 'test'),\n",
    "    eval_model(df_test, slearner_econml_test_preds, 's-learner econml', 'test'),\n",
    "    eval_model(df_test, tlearner_econml_test_preds, 't-learner econml', 'test'),\n",
    "    eval_model(df_test, xlearner_econml_test_preds, 'x-learner econml', 'test'),\n",
    "])"
   ]
  }
 ],
 "metadata": {
  "kernelspec": {
   "display_name": "Python 3",
   "language": "python",
   "name": "python3"
  },
  "language_info": {
   "codemirror_mode": {
    "name": "ipython",
    "version": 3
   },
   "file_extension": ".py",
   "mimetype": "text/x-python",
   "name": "python",
   "nbconvert_exporter": "python",
   "pygments_lexer": "ipython3",
   "version": "3.10.8"
  },
  "orig_nbformat": 4,
  "vscode": {
   "interpreter": {
    "hash": "6ecdebf77f2ee3a47348d003f751c63e810ca996c1c68d1179f338200fa83b34"
   }
  }
 },
 "nbformat": 4,
 "nbformat_minor": 2
}
